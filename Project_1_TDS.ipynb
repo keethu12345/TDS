{
  "nbformat": 4,
  "nbformat_minor": 0,
  "metadata": {
    "colab": {
      "provenance": [],
      "include_colab_link": true
    },
    "kernelspec": {
      "name": "python3",
      "display_name": "Python 3"
    },
    "language_info": {
      "name": "python"
    }
  },
  "cells": [
    {
      "cell_type": "markdown",
      "metadata": {
        "id": "view-in-github",
        "colab_type": "text"
      },
      "source": [
        "<a href=\"https://colab.research.google.com/github/keethu12345/TDS/blob/main/Project_1_TDS.ipynb\" target=\"_parent\"><img src=\"https://colab.research.google.com/assets/colab-badge.svg\" alt=\"Open In Colab\"/></a>"
      ]
    },
    {
      "cell_type": "markdown",
      "source": [
        "### Importing all the necessary libraries:"
      ],
      "metadata": {
        "id": "QVE2J8DCfdqy"
      }
    },
    {
      "cell_type": "code",
      "source": [
        "import requests\n",
        "import json\n",
        "import pandas as pd\n",
        "import numpy as np\n",
        "from urllib.parse import urljoin\n",
        "from tqdm import tqdm\n",
        "from time import sleep\n",
        "from geopy.geocoders import Nominatim\n",
        "from geopy.distance import geodesic\n",
        "import seaborn as sns\n",
        "import matplotlib.pyplot as plt"
      ],
      "metadata": {
        "id": "L862-aejfg_C"
      },
      "execution_count": null,
      "outputs": []
    },
    {
      "cell_type": "markdown",
      "source": [
        "### Performing some Data scraping:"
      ],
      "metadata": {
        "id": "BkTZnNnHTY0-"
      }
    },
    {
      "cell_type": "code",
      "execution_count": null,
      "metadata": {
        "id": "xtNUItSuTSAr"
      },
      "outputs": [],
      "source": [
        "def get_data_and_next_page(response_text:str):\n",
        "    start_idx = response_text.find('const data =') + len('const data =')\n",
        "    end_idx = response_text.rfind(';', start_idx, response_text.find('const next ='))\n",
        "    data_json = response_text[start_idx:end_idx].strip()\n",
        "    data = json.loads(data_json)\n",
        "\n",
        "    start_idx = response_text.find('const next =') + len('const next =')\n",
        "    end_idx = response_text.find(';', start_idx)\n",
        "    next_page = response_text[start_idx:end_idx].strip().strip('\"')\n",
        "\n",
        "    return data, next_page\n",
        "\n",
        "def navigate_next(base_url, next_page):\n",
        "    if next_page != \"null\":\n",
        "        return urljoin(base_url, next_page)\n",
        "    else:\n",
        "        return None\n",
        "\n",
        "def scrape_data(base_url, state_data):\n",
        "    election_data = {\"ID\": [], \"ST_NAME\": [], \"YEAR\": [], \"AC\": [],\n",
        "                 \"CANDIDATE\": [], \"SEX\": [], \"AGE\": [], \"CATEGORY\": [],\n",
        "                 \"PARTY\": [], \"VOTES\": []}\n",
        "    for entry in state_data:\n",
        "        next = entry['link']\n",
        "        url = urljoin(base_url, next)\n",
        "        while True:\n",
        "            response = requests.get(url)\n",
        "            data, next_page = get_data_and_next_page(response.text)\n",
        "            for row in tqdm(data, desc=f\"Scraping data for year {entry['YEAR']}\"):\n",
        "                for key in election_data.keys():\n",
        "                    election_data[key].append(str(row.get(key, list(row.values())[0])).strip())\n",
        "            url = navigate_next(base_url, next_page)\n",
        "            if not url:\n",
        "                break\n",
        "    return election_data\n",
        "\n",
        "def save(ST_NAME, AC_NAME, election_data):\n",
        "    df = pd.DataFrame(election_data)\n",
        "    df.replace('', np.nan, inplace=True)\n",
        "    df = df[df['VOTES'].notna()]\n",
        "    df['AC'] = df['AC'].str.replace(r'^\\d+\\s+', '', regex=True)\n",
        "    df['AC'] = df['AC'].str.replace(r'[^a-zA-Z\\s\\.]', '', regex=True)\n",
        "    df['CANDIDATE'] = df['CANDIDATE'].str.replace(r'^\\d+\\s+', '', regex=True)\n",
        "    df['CANDIDATE'] = df['CANDIDATE'].str.replace(r'[^a-zA-Z\\s\\.]', '', regex=True)\n",
        "    df = df.applymap(lambda x: x.strip() if isinstance(x, str) else x)\n",
        "    df.drop_duplicates(inplace=True)\n",
        "    df.to_csv(f\"{ST_NAME}.csv\", index=False)\n",
        "    condition = (df[\"AC\"] == AC_NAME)\n",
        "    df = df[condition]\n",
        "    df.to_csv(f\"{ST_NAME}_{AC_NAME}.csv\", index=False)\n",
        "\n",
        "def find_state_data(start_url, ST_NAME):\n",
        "    url = start_url\n",
        "    state_data = []\n",
        "    n_pages = 10\n",
        "    for i in tqdm(range(n_pages), desc=\"Crawling all pages\"):\n",
        "        if url:\n",
        "            response = requests.get(url)\n",
        "            data, next_page = get_data_and_next_page(response.text)\n",
        "            state_data.extend([entry for entry in data if entry['ST_NAME'] == ST_NAME])\n",
        "            url = navigate_next(start_url, next_page)\n",
        "    return state_data\n",
        "\n",
        "def main_scraper(ST_NAME, AC_NAME):\n",
        "    start_url = \"https://22f3001919.github.io/tds_project_1/\"\n",
        "    state_data = find_state_data(start_url, ST_NAME)\n",
        "\n",
        "    if not state_data:\n",
        "        print(f\"No data found for state: {ST_NAME}\")\n",
        "        return\n",
        "\n",
        "    election_data = scrape_data(start_url, state_data)\n",
        "    save(ST_NAME, AC_NAME, election_data)\n",
        "    return election_data\n"
      ]
    },
    {
      "cell_type": "code",
      "source": [
        "ST_NAME = \"KERALA\"\n",
        "AC_NAME = \"THIRUVALLA\"\n",
        "# saves full state csv and also constituency csv\n",
        "# scraped data undergoes priliminary cleaning as well\n",
        "data = main_scraper(ST_NAME, AC_NAME)"
      ],
      "metadata": {
        "colab": {
          "base_uri": "https://localhost:8080/"
        },
        "id": "SJSlhnnmfos-",
        "outputId": "990a886e-2ab6-4feb-a9c3-8bd6858f5469",
        "collapsed": true
      },
      "execution_count": null,
      "outputs": [
        {
          "output_type": "stream",
          "name": "stderr",
          "text": [
            "Crawling all pages: 100%|██████████| 10/10 [00:02<00:00,  4.68it/s]\n",
            "Scraping data for year 1957: 100%|██████████| 406/406 [00:00<00:00, 69913.68it/s]\n",
            "Scraping data for year 1960: 100%|██████████| 333/333 [00:00<00:00, 81836.48it/s]\n",
            "Scraping data for year 1965: 100%|██████████| 571/571 [00:00<00:00, 71655.67it/s]\n",
            "Scraping data for year 1967: 100%|██████████| 434/434 [00:00<00:00, 52353.41it/s]\n",
            "Scraping data for year 1970: 100%|██████████| 524/524 [00:00<00:00, 78127.88it/s]\n",
            "Scraping data for year 1977: 100%|██████████| 579/579 [00:00<00:00, 80753.57it/s]\n",
            "Scraping data for year 1980: 100%|██████████| 616/616 [00:00<00:00, 86500.76it/s]\n",
            "Scraping data for year 1982: 100%|██████████| 700/700 [00:00<00:00, 72123.73it/s]\n",
            "Scraping data for year 1982: 100%|██████████| 9/9 [00:00<00:00, 48708.05it/s]\n",
            "Scraping data for year 1987: 100%|██████████| 700/700 [00:00<00:00, 87085.86it/s]\n",
            "Scraping data for year 1987: 100%|██████████| 579/579 [00:00<00:00, 76861.06it/s]\n",
            "Scraping data for year 1991: 100%|██████████| 700/700 [00:00<00:00, 82259.69it/s]\n",
            "Scraping data for year 1991: 100%|██████████| 114/114 [00:00<00:00, 72678.32it/s]\n",
            "Scraping data for year 1996: 100%|██████████| 700/700 [00:00<00:00, 94752.88it/s]\n",
            "Scraping data for year 1996: 100%|██████████| 520/520 [00:00<00:00, 70570.05it/s]\n",
            "Scraping data for year 2001: 100%|██████████| 685/685 [00:00<00:00, 83126.41it/s]\n",
            "Scraping data for year 2006: 100%|██████████| 700/700 [00:00<00:00, 89376.34it/s]\n",
            "Scraping data for year 2006: 100%|██████████| 239/239 [00:00<00:00, 106585.72it/s]\n",
            "Scraping data for year 2011: 100%|██████████| 700/700 [00:00<00:00, 120928.08it/s]\n",
            "Scraping data for year 2011: 100%|██████████| 286/286 [00:00<00:00, 65318.32it/s]\n",
            "Scraping data for year 2016: 100%|██████████| 700/700 [00:00<00:00, 89553.54it/s]\n",
            "Scraping data for year 2016: 100%|██████████| 675/675 [00:00<00:00, 87281.66it/s]\n",
            "Scraping data for year 2021: 100%|██████████| 700/700 [00:00<00:00, 140647.32it/s]\n",
            "Scraping data for year 2021: 100%|██████████| 418/418 [00:00<00:00, 51420.08it/s]\n"
          ]
        }
      ]
    },
    {
      "cell_type": "markdown",
      "source": [
        "## Terminologies\n",
        "- **Vote Share** - votes of the candidate divided by the total votes in that election year expressed as a percentage\n",
        "- **Gap between elections** -Candidate might not contest in election in consecutive years but take a break and contest after few terms.Eg candidate 'A' contested in election conducted in 1994 and 2004 but didnot contest in the election between 1994-2004\n",
        "- **Margin percentage** - difference in voteshare between contestants\n",
        "- **Lose the deposit** - When the candidate failed to secure at least 1/6th of the total votes cast in that election year\n",
        "- **Absolute majority** - When the candidate secures a vote share exceeding 50%\n"
      ],
      "metadata": {
        "id": "hIeOWUJTTgo_"
      }
    },
    {
      "cell_type": "markdown",
      "source": [
        "## Questions"
      ],
      "metadata": {
        "id": "6Q6iyP6qTbKE"
      }
    },
    {
      "cell_type": "markdown",
      "source": [
        "### Question 1:\n",
        "\n",
        "For the  given AC_NAME, Identify the candidate who had the greatest change in vote share compared to the previous election, regardless of the gap between elections? [string]\n",
        "- Do not consider NOTA as candidate (but NOTA votes are to be considered as part of the total votes)\n",
        "- If no candidate has participated in two elections, then the answer will be NA\n",
        "- If two candidates have the same vote share change, choose the candidate who came first alphabetically"
      ],
      "metadata": {
        "id": "FJw78T66Tmb2"
      }
    },
    {
      "cell_type": "code",
      "source": [
        "ac_df = pd.read_csv(f\"{ST_NAME}_{AC_NAME}.csv\")\n",
        "ac_df = ac_df[ac_df['VOTES'].notna()]\n",
        "ac_df['TOTAL_VOTES'] = ac_df.groupby('YEAR')['VOTES'].transform('sum')\n",
        "ac_df = ac_df[ac_df['CANDIDATE'] != \"NOTA\"]\n",
        "ac_df['VOTE_SHARE'] = (ac_df['VOTES'] / ac_df['TOTAL_VOTES']) * 100\n",
        "pivot_table = ac_df.pivot_table(values='VOTE_SHARE', index='CANDIDATE', columns='YEAR', aggfunc='sum')\n",
        "pivot_table = pivot_table.dropna(thresh=2)\n",
        "def calc_abs_diffs(series):\n",
        "    non_nan_values = series.dropna()\n",
        "    abs_diffs = non_nan_values.diff().abs().dropna()\n",
        "    return abs_diffs\n",
        "\n",
        "abs_diffs_df = pivot_table.apply(calc_abs_diffs, axis=1)\n",
        "print(\"List of candidates sorted in decreasing order of change in vote share:\")\n",
        "abs_diffs_df.max(axis=1).sort_values(ascending=False)"
      ],
      "metadata": {
        "colab": {
          "base_uri": "https://localhost:8080/"
        },
        "id": "Sv76xOHbUEud",
        "outputId": "21b6c93f-5bd3-4f44-826f-10d48546e83b",
        "collapsed": true
      },
      "execution_count": null,
      "outputs": [
        {
          "output_type": "stream",
          "name": "stdout",
          "text": [
            "List of candidates sorted in decreasing order of change in vote share:\n"
          ]
        },
        {
          "output_type": "execute_result",
          "data": {
            "text/plain": [
              "CANDIDATE\n",
              "G. P. THAMPI        15.670675\n",
              "E. JOHN JACOB       10.740782\n",
              "P. C. THOMAS         9.345625\n",
              "NIRANAM RAJAN        0.418813\n",
              "MATHEW T. THOMAS     0.160586\n",
              "KRISHNAN KUTTY       0.107099\n",
              "dtype: float64"
            ]
          },
          "metadata": {},
          "execution_count": 4
        }
      ]
    },
    {
      "cell_type": "markdown",
      "source": [
        "### Question 5:\n",
        "For the given AC_NAME, In which year did the winning candidate have the biggest margin percentage win over the runner up? [string]\n",
        "- If there are two or more years with the same winning margin, choose the latest one\n"
      ],
      "metadata": {
        "id": "Q42-vwI7T0U9"
      }
    },
    {
      "cell_type": "code",
      "source": [
        "ac_df = pd.read_csv(f\"{ST_NAME}_{AC_NAME}.csv\")\n",
        "winners = ac_df.loc[ac_df.groupby('YEAR')['VOTES'].idxmax()].copy()\n",
        "runner_ups = ac_df.drop(winners.index)\n",
        "runner_ups = ac_df.loc[runner_ups.groupby('YEAR')['VOTES'].idxmax()]\n",
        "total_votes =  ac_df.groupby('YEAR')['VOTES'].sum().values\n",
        "winners[\"VOTE_SHARE\"] = 100 * ac_df.loc[ac_df.groupby('YEAR')['VOTES'].idxmax()][\"VOTES\"].values / total_votes\n",
        "runner_ups[\"VOTE_SHARE\"] = 100 * ac_df.loc[runner_ups.groupby('YEAR')['VOTES'].idxmax()][\"VOTES\"].values / total_votes\n",
        "winners[\"MARGIN\"] = winners[\"VOTE_SHARE\"].values - runner_ups[\"VOTE_SHARE\"].values\n",
        "print(\"List of years sorted in decreasing order of margin with runner up:\")\n",
        "winners.groupby(\"YEAR\")[\"MARGIN\"].sum().sort_values(ascending=False)"
      ],
      "metadata": {
        "colab": {
          "base_uri": "https://localhost:8080/"
        },
        "id": "SdLD1CDSUGzX",
        "outputId": "5a0c1a58-bd4e-4800-b699-e8c7297c0c4a",
        "collapsed": true
      },
      "execution_count": null,
      "outputs": [
        {
          "output_type": "stream",
          "name": "stdout",
          "text": [
            "List of years sorted in decreasing order of margin with runner up:\n"
          ]
        },
        {
          "output_type": "execute_result",
          "data": {
            "text/plain": [
              "YEAR\n",
              "1965    28.667564\n",
              "1960    28.628960\n",
              "2006    12.542702\n",
              "2001    12.249644\n",
              "1977    11.973221\n",
              "1982     9.453034\n",
              "2011     8.501919\n",
              "2021     8.184515\n",
              "1970     7.854880\n",
              "1996     7.121964\n",
              "1957     5.797325\n",
              "2016     5.715986\n",
              "1967     3.894697\n",
              "1991     2.464170\n",
              "1980     2.056203\n",
              "1987     1.635967\n",
              "Name: MARGIN, dtype: float64"
            ]
          },
          "metadata": {},
          "execution_count": 5
        }
      ]
    },
    {
      "cell_type": "markdown",
      "source": [
        "### Question 8:\n",
        "\n",
        "For the given AC_NAME, how many candidates lost their deposit across the entire dataset?[integer]\n",
        "- If there is only one candidate in an election, the candidate does not lose their deposit.\n",
        "- Don't consider Nan/NA/blank votes\n",
        "- NOTA are not candidates"
      ],
      "metadata": {
        "id": "5Q_l0xjaT0qt"
      }
    },
    {
      "cell_type": "code",
      "source": [
        "ac_df = pd.read_csv(f\"{ST_NAME}_{AC_NAME}.csv\")\n",
        "ac_df['DEPOSIT_THRESHOLD'] = 1/6 * ac_df.groupby('YEAR')['VOTES'].transform('sum')\n",
        "ac_df = ac_df[ac_df['CANDIDATE'] != \"NOTA\"]\n",
        "ac_df[ac_df['VOTES'] < ac_df['DEPOSIT_THRESHOLD']].shape[0]"
      ],
      "metadata": {
        "colab": {
          "base_uri": "https://localhost:8080/"
        },
        "id": "S4lfRri5UIdJ",
        "outputId": "0314b336-241e-4f0b-c418-8c4089000559",
        "collapsed": true
      },
      "execution_count": null,
      "outputs": [
        {
          "output_type": "execute_result",
          "data": {
            "text/plain": [
              "53"
            ]
          },
          "metadata": {},
          "execution_count": 6
        }
      ]
    },
    {
      "cell_type": "markdown",
      "source": [
        "### Question 9:\n",
        "\n",
        "For the  given AC_NAME, In how many elections did the winner get more than 50 percent of the vote? [integer]"
      ],
      "metadata": {
        "id": "uS5gE8ncT0xI"
      }
    },
    {
      "cell_type": "code",
      "source": [
        "ac_df = pd.read_csv(f\"{ST_NAME}_{AC_NAME}.csv\")\n",
        "winners = ac_df.loc[ac_df.groupby('YEAR')['VOTES'].idxmax()].copy()\n",
        "total_votes = ac_df.groupby('YEAR')['VOTES'].sum().values\n",
        "winners['VOTE_SHARE'] = 100 * winners[\"VOTES\"].values / total_votes\n",
        "winners[winners['VOTE_SHARE'] > 50].shape[0]"
      ],
      "metadata": {
        "id": "pDh4ZnaXUI8R",
        "colab": {
          "base_uri": "https://localhost:8080/"
        },
        "collapsed": true,
        "outputId": "c8abfcdb-f410-4524-da8c-31d6886f5d40"
      },
      "execution_count": null,
      "outputs": [
        {
          "output_type": "execute_result",
          "data": {
            "text/plain": [
              "7"
            ]
          },
          "metadata": {},
          "execution_count": 7
        }
      ]
    },
    {
      "cell_type": "markdown",
      "source": [
        "### Question 10:\n",
        "\n",
        " What is the latest year in which the winner won more than 50 percent of the vote? [string]\n",
        "- If no one got more than 50 percent of the vote, then the answer is NA\n"
      ],
      "metadata": {
        "id": "yLTP0b94T03T"
      }
    },
    {
      "cell_type": "code",
      "source": [
        "ac_df = pd.read_csv(f\"{ST_NAME}_{AC_NAME}.csv\")\n",
        "winners = ac_df.loc[ac_df.groupby('YEAR')['VOTES'].idxmax()].copy()\n",
        "total_votes =  ac_df.groupby('YEAR')['VOTES'].sum().values\n",
        "winners[\"VOTE_SHARE\"] = 100 * ac_df.loc[ac_df.groupby('YEAR')['VOTES'].idxmax()][\"VOTES\"].values / total_votes\n",
        "winners_above_50 = winners[winners[\"VOTE_SHARE\"] > 50]\n",
        "winners_above_50[\"YEAR\"].max()"
      ],
      "metadata": {
        "colab": {
          "base_uri": "https://localhost:8080/"
        },
        "id": "YAHBd-GKUJms",
        "outputId": "47002639-3b48-4d40-ac58-b068f7d898ff",
        "collapsed": true
      },
      "execution_count": null,
      "outputs": [
        {
          "output_type": "execute_result",
          "data": {
            "text/plain": [
              "2001"
            ]
          },
          "metadata": {},
          "execution_count": 8
        }
      ]
    },
    {
      "cell_type": "markdown",
      "source": [
        "### Question 11:\n",
        "\n",
        "\n",
        "For the given AC_NAME, Which party won the highest number of election in a given constituency? [string]\n",
        "- If two or more parties have the same number of highest wins, choose the party that is alphabetically first\n",
        "- If independent candidates won the highest number of elections then the answer is IND\n"
      ],
      "metadata": {
        "id": "kCN2IdZCT09H"
      }
    },
    {
      "cell_type": "code",
      "source": [
        "ac_df = pd.read_csv(f\"{ST_NAME}_{AC_NAME}.csv\")\n",
        "winners = ac_df.loc[ac_df.groupby('YEAR')['VOTES'].idxmax()].copy()\n",
        "print(\"Frequency of party winning the elections:\")\n",
        "winners[\"PARTY\"].value_counts().sort_values(ascending=False)"
      ],
      "metadata": {
        "colab": {
          "base_uri": "https://localhost:8080/"
        },
        "id": "8sJdS_omUKEM",
        "outputId": "c5384c84-0471-4901-f61d-e2390d452550",
        "collapsed": true
      },
      "execution_count": null,
      "outputs": [
        {
          "output_type": "stream",
          "name": "stdout",
          "text": [
            "Frequency of party winning the elections:\n"
          ]
        },
        {
          "output_type": "execute_result",
          "data": {
            "text/plain": [
              "PARTY\n",
              "JD(S)     4\n",
              "KEC       3\n",
              "JNP       2\n",
              "KEC(M)    2\n",
              "CPI       1\n",
              "INC       1\n",
              "KC        1\n",
              "IND       1\n",
              "KCM       1\n",
              "Name: count, dtype: int64"
            ]
          },
          "metadata": {},
          "execution_count": 9
        }
      ]
    },
    {
      "cell_type": "markdown",
      "source": [
        "### Question 12:\n",
        "\n",
        " For the  given AC_NAME, If the second and the third candidate in an election combined their vote, how many elections would they win? [integer]\n",
        "- Do not count elections where there are less than 3 candidates, count these as 0"
      ],
      "metadata": {
        "id": "U5FqAYh2T1DG"
      }
    },
    {
      "cell_type": "code",
      "source": [
        "ac_df = pd.read_csv(f\"{ST_NAME}_{AC_NAME}.csv\")\n",
        "year_counts = ac_df[\"YEAR\"].value_counts()\n",
        "filtered_years = year_counts[year_counts >= 3].index\n",
        "filtered_df = ac_df[ac_df['YEAR'].isin(filtered_years)].sort_values(by=['YEAR', 'VOTES'], ascending=[True, False])\n",
        "second_third_candidates = filtered_df.groupby('YEAR').head(3).groupby('YEAR').tail(2)\n",
        "second_third_combined = second_third_candidates.groupby('YEAR')[\"VOTES\"].sum()\n",
        "winner_count = filtered_df.groupby('YEAR').head(1).groupby('YEAR')[\"VOTES\"].sum()\n",
        "result = (winner_count - second_third_combined) < 0\n",
        "result.sum()"
      ],
      "metadata": {
        "colab": {
          "base_uri": "https://localhost:8080/"
        },
        "id": "_ta_ORB1UKgj",
        "outputId": "c622a869-95e2-4d82-c2b6-20af82726938",
        "collapsed": true
      },
      "execution_count": null,
      "outputs": [
        {
          "output_type": "execute_result",
          "data": {
            "text/plain": [
              "7"
            ]
          },
          "metadata": {},
          "execution_count": 10
        }
      ]
    },
    {
      "cell_type": "markdown",
      "source": [
        "### Question 15:\n",
        "\n",
        " For a given constituency, how many constituencies within the same state are less than 20 kms. Use Nominatim for this question."
      ],
      "metadata": {
        "id": "qDKCK6uJT1UO"
      }
    },
    {
      "cell_type": "code",
      "source": [
        "state_df = pd.read_csv(f\"{ST_NAME}.csv\")\n",
        "def get_coordinates(state:str, constituency:str):\n",
        "    try:\n",
        "        geolocator = Nominatim(user_agent=\"Mozilla/5.0\")\n",
        "        location = geolocator.geocode(f\"{constituency.lower()}, {state.lower()}, India\")\n",
        "        # print(location)\n",
        "        if location:\n",
        "            return location.latitude, location.longitude\n",
        "        else:\n",
        "            return None, None\n",
        "    except:\n",
        "        return None, None\n",
        "\n",
        "def calculate_distance(given_coords, lat, lon):\n",
        "    try:\n",
        "        if lat and lon:\n",
        "            return geodesic(given_coords, (lat, lon)).kilometers\n",
        "        else:\n",
        "            return None\n",
        "    except:\n",
        "        return None\n",
        "print(\"Getting latitude and longitude for all constituencies..\")\n",
        "constituency_list = {place:() for place in state_df[\"AC\"].unique()}\n",
        "for key in constituency_list.keys():\n",
        "    sleep(2)\n",
        "    constituency_list[key] = get_coordinates(ST_NAME, key)\n",
        "print(\"Done\")\n",
        "temp_df = state_df.copy()\n",
        "temp_df['LAT'], temp_df['LON'] = zip(*state_df.apply(lambda row: constituency_list[row[\"AC\"]], axis=1))\n",
        "given_coords = temp_df.loc[state_df['AC'] == AC_NAME, ['LAT', 'LON']].values[0]\n",
        "temp_df['DISTANCE'] = temp_df.apply(lambda row: calculate_distance(given_coords, row['LAT'], row['LON']), axis=1)\n",
        "nearby_constituencies = temp_df[(temp_df['DISTANCE'] < 20) & (temp_df['AC'] != AC_NAME)]\n",
        "print(\"Count of constituencies within 20 kms:\")\n",
        "nearby_constituencies['AC'].unique().shape"
      ],
      "metadata": {
        "colab": {
          "base_uri": "https://localhost:8080/"
        },
        "id": "N41qavJAUMGg",
        "outputId": "80426d33-fe63-40cf-9d29-623704e19307",
        "collapsed": true
      },
      "execution_count": null,
      "outputs": [
        {
          "output_type": "stream",
          "name": "stdout",
          "text": [
            "Getting latitude and longitude for all constituencies..\n"
          ]
        },
        {
          "output_type": "stream",
          "name": "stderr",
          "text": [
            "WARNING:urllib3.connectionpool:Retrying (Retry(total=1, connect=None, read=None, redirect=None, status=None)) after connection broken by 'ReadTimeoutError(\"HTTPSConnectionPool(host='nominatim.openstreetmap.org', port=443): Read timed out. (read timeout=1)\")': /search?q=pala%2C+kerala%2C+India&format=json&limit=1\n"
          ]
        },
        {
          "output_type": "stream",
          "name": "stdout",
          "text": [
            "Done\n",
            "Count of constituencies within 20 kms:\n"
          ]
        },
        {
          "output_type": "execute_result",
          "data": {
            "text/plain": [
              "(10,)"
            ]
          },
          "metadata": {},
          "execution_count": 11
        }
      ]
    },
    {
      "cell_type": "markdown",
      "source": [
        "### Question 17:\n",
        "\n",
        "Find the Pearson correlation coefficient between the votes won by female candidates and male candidates. Only include constituencies and election years that had at least 1 female candidate. Each row in the correlation data table should represent an election. Round off the answer to 4 decimal points[float]"
      ],
      "metadata": {
        "id": "jigZEvAdT1fY"
      }
    },
    {
      "cell_type": "code",
      "source": [
        "state_df = pd.read_csv(f\"{ST_NAME}.csv\")\n",
        "df_filtered = state_df.groupby('YEAR').filter(lambda x: (x['SEX'] == 'F').any())\n",
        "df_female = df_filtered[df_filtered['SEX'] == 'F'][['YEAR', 'VOTES']].rename(columns={'VOTES': 'FEMALE_VOTES'})\n",
        "female_votes_by_year = df_female.groupby('YEAR')['FEMALE_VOTES'].sum()\n",
        "df_male = df_filtered[df_filtered['SEX'] == 'M'][['YEAR', 'VOTES']].rename(columns={'VOTES': 'MALE_VOTES'})\n",
        "male_votes_by_year = df_male.groupby('YEAR')[\"MALE_VOTES\"].sum()\n",
        "male_votes_by_year.corr(female_votes_by_year)"
      ],
      "metadata": {
        "colab": {
          "base_uri": "https://localhost:8080/"
        },
        "id": "bNVqZ3OpUNXJ",
        "outputId": "12e7868c-2250-4a80-dbb4-da6534df161d",
        "collapsed": true
      },
      "execution_count": null,
      "outputs": [
        {
          "output_type": "execute_result",
          "data": {
            "text/plain": [
              "0.946816297110735"
            ]
          },
          "metadata": {},
          "execution_count": 12
        }
      ]
    },
    {
      "cell_type": "markdown",
      "source": [
        "### Question 18:\n",
        "\n",
        " For a given state, identify the election year which has the most outliers on the basis of candidate votes. Use the interquartile range (IQR) rule to detect outliers. [integer]"
      ],
      "metadata": {
        "id": "snJlrfMXT1lb"
      }
    },
    {
      "cell_type": "code",
      "source": [
        "state_df = pd.read_csv(f\"{ST_NAME}.csv\")\n",
        "grouped = state_df.groupby('YEAR')\n",
        "Q1 = grouped['VOTES'].transform(lambda x: x.quantile(0.25))\n",
        "Q3 = grouped['VOTES'].transform(lambda x: x.quantile(0.75))\n",
        "IQR = Q3 - Q1\n",
        "lb = Q1 - 1.5 * IQR\n",
        "ub = Q3 + 1.5 * IQR\n",
        "condition = (state_df['VOTES'] < lb) | (state_df['VOTES'] > ub)\n",
        "print(\"List of years sorted in descending order of number of outliers:\")\n",
        "state_df[condition][\"YEAR\"].value_counts()"
      ],
      "metadata": {
        "colab": {
          "base_uri": "https://localhost:8080/"
        },
        "id": "FixGorWPTdsu",
        "outputId": "e4e9df0c-6656-400e-a377-e8c2e8fe4196",
        "collapsed": true
      },
      "execution_count": null,
      "outputs": [
        {
          "output_type": "stream",
          "name": "stdout",
          "text": [
            "List of years sorted in descending order of number of outliers:\n"
          ]
        },
        {
          "output_type": "execute_result",
          "data": {
            "text/plain": [
              "YEAR\n",
              "1996    284\n",
              "1987    282\n",
              "2016    185\n",
              "1960     15\n",
              "1957      9\n",
              "Name: count, dtype: int64"
            ]
          },
          "metadata": {},
          "execution_count": 13
        }
      ]
    }
  ]
}