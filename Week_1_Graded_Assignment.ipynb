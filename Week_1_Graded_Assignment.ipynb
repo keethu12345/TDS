{
  "nbformat": 4,
  "nbformat_minor": 0,
  "metadata": {
    "colab": {
      "provenance": [],
      "authorship_tag": "ABX9TyNBLUTW0G2unRz9j++rrfQ6",
      "include_colab_link": true
    },
    "kernelspec": {
      "name": "python3",
      "display_name": "Python 3"
    },
    "language_info": {
      "name": "python"
    }
  },
  "cells": [
    {
      "cell_type": "markdown",
      "metadata": {
        "id": "view-in-github",
        "colab_type": "text"
      },
      "source": [
        "<a href=\"https://colab.research.google.com/github/keethu12345/TDS/blob/main/Week_1_Graded_Assignment.ipynb\" target=\"_parent\"><img src=\"https://colab.research.google.com/assets/colab-badge.svg\" alt=\"Open In Colab\"/></a>"
      ]
    },
    {
      "cell_type": "markdown",
      "source": [
        "Answers are the ones in **BOLD**."
      ],
      "metadata": {
        "id": "UsD-CfRIUlWn"
      }
    },
    {
      "cell_type": "markdown",
      "source": [
        "1)\n",
        "\n",
        "Search for the \"World Happiness Report\" dataset on Kaggle. Find the official one, by \"Sustainable Development Solutions Network\". What was the GDP per capita of Myanmar in 2018?\n",
        "\n",
        "\n",
        "**a) 0.682**\n",
        "\n",
        "b) 0.578\n",
        "\n",
        "c) 0.365\n",
        "\n",
        "d) 0.372"
      ],
      "metadata": {
        "id": "-A09ttP1Mkv5"
      }
    },
    {
      "cell_type": "markdown",
      "source": [
        "2)\n",
        "\n",
        "Search for the \"World Happiness Report\" dataset on Kaggle. Find the official one, by \"Sustainable Development Solutions Network\". What was the Family of Bhutan in 2016?\n",
        "\n",
        "\n",
        "**a) 0.90836**\n",
        "\n",
        "b) 1.30782\n",
        "\n",
        "c) 6.871\n",
        "\n",
        "d) 2.38582"
      ],
      "metadata": {
        "id": "6W6DgwUVM09H"
      }
    },
    {
      "cell_type": "markdown",
      "source": [
        "3)\n",
        "\n",
        "What is the official data portal of Bulgaria?\n",
        "\n",
        "a) egov.bg/\n",
        "\n",
        "**b) data.egov.bg/**\n",
        "\n",
        "c) data.bg/\n",
        "\n",
        "d) data.gov.bg/"
      ],
      "metadata": {
        "id": "IPr8kW76M_Xw"
      }
    },
    {
      "cell_type": "markdown",
      "source": [
        "4)\n",
        "\n",
        "What is the official data portal of Moldova?\n",
        "\n",
        "a) data.co.md/\n",
        "\n",
        "b) egov.md/\n",
        "\n",
        "c) data.md/\n",
        "\n",
        "**d) data.gov.md/**"
      ],
      "metadata": {
        "id": "Xoz7bPA-Tg5P"
      }
    },
    {
      "cell_type": "markdown",
      "source": [
        "5)\n",
        "\n",
        "What is the official data portal of Romania?\n",
        "\n",
        "a) data.co.ro/\n",
        "\n",
        "**b) data.gov.ro/**\n",
        "\n",
        "c) egov.ro/\n",
        "\n",
        "d) data.ro/"
      ],
      "metadata": {
        "id": "Gk_GkPvOTy8b"
      }
    },
    {
      "cell_type": "markdown",
      "source": [
        "6)\n",
        "\n",
        "Classify into structured, semi-structured or unstructured: Employee data Excel file. Focus on the content, not the file/storage format.\n",
        "\n",
        "a) Unstructured\n",
        "\n",
        "b) Semi-structured\n",
        "\n",
        "**c) Structured**"
      ],
      "metadata": {
        "id": "dUT_DS2HT6ln"
      }
    },
    {
      "cell_type": "markdown",
      "source": [
        "7)\n",
        "\n",
        "Classify into structured, semi-structured or unstructured: Genomic sequences. Focus on the content, not the file/storage format.\n",
        "\n",
        "a) Unstructured\n",
        "\n",
        "**b) Structured**\n",
        "\n",
        "c) Semi-structured"
      ],
      "metadata": {
        "id": "4Smbk5xuUBk3"
      }
    },
    {
      "cell_type": "markdown",
      "source": [
        "8)\n",
        "\n",
        "Which of these types of values best describes Birthdate?\n",
        "\n",
        "a) Categorical - Ordered\n",
        "\n",
        "b) Numerical - Integer\n",
        "\n",
        "c) Categorical - Unordered\n",
        "\n",
        "**d) Composite - Temporal**"
      ],
      "metadata": {
        "id": "QSJmTHGfUI83"
      }
    },
    {
      "cell_type": "markdown",
      "source": [
        "9)\n",
        "\n",
        "Which of these types of values best describes City Name?\n",
        "\n",
        "**a) Categorical - Unordered**\n",
        "\n",
        "b) Numerical - Integer\n",
        "\n",
        "c) Composite - Temporal\n",
        "\n",
        "d) Numerical - Real"
      ],
      "metadata": {
        "id": "0B1Pb5xbUSp3"
      }
    },
    {
      "cell_type": "markdown",
      "source": [
        "10)\n",
        "\n",
        "Which of these types of values best describes Person's Name?\n",
        "\n",
        "a) Numerical - Real\n",
        "\n",
        "**b) Categorical - Unstructured**\n",
        "\n",
        "c) Composite - Temporal\n",
        "\n",
        "d) Composite - Spatial"
      ],
      "metadata": {
        "id": "DTjgL4UFUcIQ"
      }
    }
  ]
}