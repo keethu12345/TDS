{
  "nbformat": 4,
  "nbformat_minor": 0,
  "metadata": {
    "colab": {
      "provenance": [],
      "include_colab_link": true
    },
    "kernelspec": {
      "name": "python3",
      "display_name": "Python 3"
    },
    "language_info": {
      "name": "python"
    }
  },
  "cells": [
    {
      "cell_type": "markdown",
      "metadata": {
        "id": "view-in-github",
        "colab_type": "text"
      },
      "source": [
        "<a href=\"https://colab.research.google.com/github/keethu12345/TDS/blob/main/Week_2_Graded_Assignment.ipynb\" target=\"_parent\"><img src=\"https://colab.research.google.com/assets/colab-badge.svg\" alt=\"Open In Colab\"/></a>"
      ]
    },
    {
      "cell_type": "markdown",
      "source": [
        "Answers are the ones in **BOLD**."
      ],
      "metadata": {
        "id": "Eb7VHeQwdnu2"
      }
    },
    {
      "cell_type": "markdown",
      "source": [
        "Question 1:\n",
        "\n",
        "Which of these Google Sheets functions can process CSV files?\n",
        "\n",
        "\n",
        "a) IMPORTDATA , IMPORTRANGE\n",
        "\n",
        "**b) IMPORTDATA, IMPORTXML**\n",
        "\n",
        "c) IMPORTXML, IMPORTFEED\n",
        "\n",
        "d) IMPORTRANGE ,IMPORTDATA\n"
      ],
      "metadata": {
        "id": "X7j1U--FBpLn"
      }
    },
    {
      "cell_type": "markdown",
      "source": [
        "Questio 2:\n",
        "\n",
        "Your objective is to scrape share prices of a portfolio of companies using Excel. You've been successful in loading the share prices along with other information available in the table from the webpage. But as per client request you are required to add another column to the table that labels the stock as \"buy\" when the % change in the share price exceeds a certain value. Choose the most appropriate option.\n",
        "\n",
        "\n",
        "a) An additional column cannot be added to the data loaded from the website using Excel.\n",
        "\n",
        "**b) We cannot insert a column inside an Excel connection range but can add a new column \"% change\" outside it in Excel.**\n",
        "\n",
        "c) An additional column can be added but the specific client request cannot be met using Excel. We need Python.\n",
        "\n",
        "d) We can insert a column between the columns of the connection range in Excel to calculate the \"% change\"."
      ],
      "metadata": {
        "id": "FuuvhxFQYWh6"
      }
    },
    {
      "cell_type": "markdown",
      "source": [
        "Question 3:\n",
        "\n",
        "\n",
        "Using PokeAPI, find out how many moves sandshrew\n",
        "has that vulpix  does not in in the ultra-sun-ultra-moon version."
      ],
      "metadata": {
        "id": "HBQucoIZYlVr"
      }
    },
    {
      "cell_type": "code",
      "source": [
        "#importing required library\n",
        "import requests\n",
        "\n",
        "#making an api call to PokeAPI to get the details about the pokemon\n",
        "response_rapidash = requests.get('https://pokeapi.co/api/v2/pokemon/sandshrew')\n",
        "response_voltorb = requests.get('https://pokeapi.co/api/v2/pokemon/vulpix')\n",
        "\n",
        "#parsing through the json response to get the required moves in a particular version\n",
        "version = 'ultra-sun-ultra-moon'\n",
        "\n",
        "voltorb_moves = []\n",
        "for i in response_voltorb.json()['moves']:\n",
        "  flag = False\n",
        "  for j in i['version_group_details']:\n",
        "    if j['version_group']['name'] == version:\n",
        "      flag = True\n",
        "      break\n",
        "  if flag:\n",
        "    voltorb_moves.append(i['move']['name'])\n",
        "# print(voltorb_moves)\n",
        "\n",
        "rapidash_moves = []\n",
        "for i in response_rapidash.json()['moves']:\n",
        "  flag = False\n",
        "  for j in i['version_group_details']:\n",
        "    # print(j['move_learn_method'])\n",
        "    if j['version_group']['name'] == version:\n",
        "      flag = True\n",
        "      break\n",
        "  if flag:\n",
        "    # print(i)\n",
        "    rapidash_moves.append(i['move']['name'])\n",
        "# print(rapidash_moves)\n",
        "\n",
        "#counting the moves that rapidash has but voltorb does not\n",
        "count = 0\n",
        "for i in rapidash_moves:\n",
        "  if i not in voltorb_moves:\n",
        "    count = count+1\n",
        "count"
      ],
      "metadata": {
        "colab": {
          "base_uri": "https://localhost:8080/"
        },
        "id": "YQN_U8SmzGAm",
        "outputId": "8ac88551-d593-44cf-b3e8-1e379c43172c",
        "collapsed": true
      },
      "execution_count": 1,
      "outputs": [
        {
          "output_type": "execute_result",
          "data": {
            "text/plain": [
              "43"
            ]
          },
          "metadata": {},
          "execution_count": 1
        }
      ]
    },
    {
      "cell_type": "markdown",
      "source": [
        "Question 4:\n",
        "\n",
        "\n",
        "How many elements match the CSS selector [class^=\"menu-\"], [class*=\" menu-\"] on this White House page snapshot? (Note the selector carefully Ignore JavaScript-generated elements.)"
      ],
      "metadata": {
        "id": "RWb5vYKzEgXH"
      }
    },
    {
      "cell_type": "markdown",
      "source": [
        "Answer: 7\n",
        "\n",
        "1. Inspect element Tab\n",
        "2. In console write:\n",
        "\n",
        "`document.querySelectorAll('[class^=\"menu-\"], [class*=\" menu-\"]').length`\n"
      ],
      "metadata": {
        "id": "Ya0fQMDfEiT_"
      }
    },
    {
      "cell_type": "markdown",
      "source": [
        "Question 5:\n",
        "\n",
        "What is the minimum latitude of the bounding box of the city Lagos\n",
        "in the country Nigeria on the Nominatim API? Pick the osm_id ending with 5124.\n",
        "\n",
        "Answer: 6.2950575"
      ],
      "metadata": {
        "id": "K2IK4EGhA13u"
      }
    },
    {
      "cell_type": "code",
      "source": [
        "addr = geolocator.geocode(location_name)\n",
        "addr.raw # check your osm_id as per qn"
      ],
      "metadata": {
        "colab": {
          "base_uri": "https://localhost:8080/"
        },
        "id": "w27b3aEWt4MF",
        "outputId": "44128368-80ab-48ad-e979-10866b714d61",
        "collapsed": true
      },
      "execution_count": 4,
      "outputs": [
        {
          "output_type": "execute_result",
          "data": {
            "text/plain": [
              "{'place_id': 245673267,\n",
              " 'licence': 'Data © OpenStreetMap contributors, ODbL 1.0. http://osm.org/copyright',\n",
              " 'osm_type': 'node',\n",
              " 'osm_id': 1886594378,\n",
              " 'lat': '31.5656822',\n",
              " 'lon': '74.3141829',\n",
              " 'class': 'place',\n",
              " 'type': 'city',\n",
              " 'place_rank': 16,\n",
              " 'importance': 0.6036041069355744,\n",
              " 'addresstype': 'city',\n",
              " 'name': 'لاہور',\n",
              " 'display_name': 'لاہور, ضلع لاہور, لاہور ڈویژن, پنجاب, 54500, پاکستان',\n",
              " 'boundingbox': ['31.4056822', '31.7256822', '74.1541829', '74.4741829']}"
            ]
          },
          "metadata": {},
          "execution_count": 4
        }
      ]
    },
    {
      "cell_type": "code",
      "source": [
        "\n",
        "from geopy.geocoders import Nominatim\n",
        "import geopy #.geocoders.options\n",
        "\n",
        "# Set your custom user-agent\n",
        "custom_user_agent = \"my-custom-application\"\n",
        "\n",
        "# Override the default user_agent\n",
        "geopy.geocoders.options.default_user_agent = custom_user_agent\n",
        "\n",
        "# Create a Nominatim geocoder with the custom user-agent\n",
        "geolocator = Nominatim(user_agent=custom_user_agent)\n",
        "\n",
        "def get_bounding_box_max_latitude(location_name):\n",
        "    location = geolocator.geocode(location_name)\n",
        "    if location:\n",
        "        bbox = location.raw['boundingbox']\n",
        "        max_latitude = float(bbox[1])\n",
        "        return max_latitude\n",
        "    else:\n",
        "        return None\n",
        "\n",
        "# Example usage for Mexico City, Mexico\n",
        "location_name = \"Lagos, Nigeria\" # change as per given\n",
        "max_latitude = get_bounding_box_max_latitude(location_name)\n",
        "if max_latitude:\n",
        "    print(f\"The maximum latitude of the bounding box for {location_name} is {max_latitude}\")\n",
        "else:\n",
        "    print(f\"Location not found or an error occurred.\")"
      ],
      "metadata": {
        "colab": {
          "base_uri": "https://localhost:8080/"
        },
        "id": "RHxjDQ5tsw34",
        "outputId": "37377b1f-2290-49be-a116-99bce8b43c47",
        "collapsed": true
      },
      "execution_count": 2,
      "outputs": [
        {
          "output_type": "stream",
          "name": "stdout",
          "text": [
            "The maximum latitude of the bounding box for Lagos, Nigeria is 6.6150575\n"
          ]
        }
      ]
    },
    {
      "cell_type": "markdown",
      "source": [
        "Question 6:\n",
        "\n",
        "What is the maximum latitude of the bounding box of the city Lahore\n",
        "in the country Pakistan on the Nominatim API? Pick the osm_id ending with 4378.\n",
        "\n",
        "Answer:  31.7256822"
      ],
      "metadata": {
        "id": "7tO6aTWzaV4-"
      }
    },
    {
      "cell_type": "code",
      "source": [
        "\n",
        "from geopy.geocoders import Nominatim\n",
        "import geopy #.geocoders.options\n",
        "\n",
        "# Set your custom user-agent\n",
        "custom_user_agent = \"my-custom-application\"\n",
        "\n",
        "# Override the default user_agent\n",
        "geopy.geocoders.options.default_user_agent = custom_user_agent\n",
        "\n",
        "# Create a Nominatim geocoder with the custom user-agent\n",
        "geolocator = Nominatim(user_agent=custom_user_agent)\n",
        "\n",
        "def get_bounding_box_max_latitude(location_name):\n",
        "    location = geolocator.geocode(location_name)\n",
        "    if location:\n",
        "        bbox = location.raw['boundingbox']\n",
        "        max_latitude = float(bbox[1])\n",
        "        return max_latitude\n",
        "    else:\n",
        "        return None\n",
        "\n",
        "# Example usage for Mexico City, Mexico\n",
        "location_name = \"Lahore, Pakistan\" # change as per given\n",
        "max_latitude = get_bounding_box_max_latitude(location_name)\n",
        "if max_latitude:\n",
        "    print(f\"The maximum latitude of the bounding box for {location_name} is {max_latitude}\")\n",
        "else:\n",
        "    print(f\"Location not found or an error occurred.\")"
      ],
      "metadata": {
        "colab": {
          "base_uri": "https://localhost:8080/"
        },
        "outputId": "8608e5a3-125c-45ca-d6af-229b31af9fe2",
        "collapsed": true,
        "id": "NUHqqfwyZoUW"
      },
      "execution_count": 3,
      "outputs": [
        {
          "output_type": "stream",
          "name": "stdout",
          "text": [
            "The maximum latitude of the bounding box for Lahore, Pakistan is 31.7256822\n"
          ]
        }
      ]
    },
    {
      "cell_type": "markdown",
      "source": [
        "Question 7:\n",
        "\n",
        "Which of these responses from a requests.get(url)\n",
        "returns the raw response as bytes (not a string)?\n",
        "\n",
        "a) response.summary\n",
        "\n",
        "b) response.text\n",
        "\n",
        "**c) response.content**\n",
        "\n",
        "d) response.json"
      ],
      "metadata": {
        "id": "zT1BzxoOGeap"
      }
    },
    {
      "cell_type": "markdown",
      "source": [
        "Question 8:\n",
        "\n",
        "You have the following HTML structure representing a list of featured products on an e-commerce site. Which CSS selector would you use to extract the product names, i.e. text content of only the _span_ elements that are direct children of _div_  elements with the class \"highlighted-product\" ?\n",
        "\n"
      ],
      "metadata": {
        "id": "BJqAmjjJGHho"
      }
    },
    {
      "cell_type": "code",
      "source": [
        "'''\n",
        "<div class=\"highlighted-product\">\n",
        "    <span>Product 1</span>\n",
        "    <p><span>Special Offer</span></p>\n",
        "</div>\n",
        "<div class=\"highlighted-product\">\n",
        "    <span>Product 2</span>\n",
        "</div>\n",
        "<div>\n",
        "    <span>Product 3</span>\n",
        "</div>\n",
        "'''"
      ],
      "metadata": {
        "id": "98b6nTHgbvDv"
      },
      "execution_count": null,
      "outputs": []
    },
    {
      "cell_type": "markdown",
      "source": [
        "Answer: div.highlighted-product > span"
      ],
      "metadata": {
        "id": "EC7XXwdib0Jf"
      }
    },
    {
      "cell_type": "markdown",
      "source": [
        "Question 9:\n",
        "\n",
        "\n",
        "\n",
        "Given the following nested HTML structure representing a navigation menu, which CSS selector would extract only the _li_ elements that are descendants of the _ul_ with the class \"main-menu\" and are also the last child within their parent _ul_."
      ],
      "metadata": {
        "id": "UJkXY3KEBBD1"
      }
    },
    {
      "cell_type": "code",
      "source": [
        "<ul class=\"main-menu\">\n",
        "    <li>Home</li>\n",
        "    <li>About Us</li>\n",
        "    <ul>\n",
        "        <li>Our Team</li>\n",
        "        <li>Our History</li>\n",
        "        <li>Contact Us</li>\n",
        "    </ul>\n",
        "    <li>Services</li>\n",
        "</ul>\n",
        "<ul class=\"main-menu\">\n",
        "    <li>Products</li>\n",
        "    <li>Support</li>\n",
        "    <ul>\n",
        "        <li>FAQ</li>\n",
        "        <li>Customer Service</li>\n",
        "    </ul>\n",
        "</ul>"
      ],
      "metadata": {
        "id": "ttOecgIecVBX"
      },
      "execution_count": null,
      "outputs": []
    },
    {
      "cell_type": "markdown",
      "source": [
        "Answer:  .main-menu li:last-child"
      ],
      "metadata": {
        "id": "RV3rAN-xczuI"
      }
    },
    {
      "cell_type": "code",
      "source": [
        "!pip install tabula-py"
      ],
      "metadata": {
        "colab": {
          "base_uri": "https://localhost:8080/"
        },
        "id": "9isnvcI7xWD_",
        "outputId": "d1ee7a68-a664-4b4a-90be-055ec6148b46",
        "collapsed": true
      },
      "execution_count": 5,
      "outputs": [
        {
          "output_type": "stream",
          "name": "stdout",
          "text": [
            "Collecting tabula-py\n",
            "  Downloading tabula_py-2.9.3-py3-none-any.whl (12.0 MB)\n",
            "\u001b[2K     \u001b[90m━━━━━━━━━━━━━━━━━━━━━━━━━━━━━━━━━━━━━━━━\u001b[0m \u001b[32m12.0/12.0 MB\u001b[0m \u001b[31m32.0 MB/s\u001b[0m eta \u001b[36m0:00:00\u001b[0m\n",
            "\u001b[?25hRequirement already satisfied: pandas>=0.25.3 in /usr/local/lib/python3.10/dist-packages (from tabula-py) (2.0.3)\n",
            "Requirement already satisfied: numpy in /usr/local/lib/python3.10/dist-packages (from tabula-py) (1.25.2)\n",
            "Requirement already satisfied: distro in /usr/lib/python3/dist-packages (from tabula-py) (1.7.0)\n",
            "Requirement already satisfied: python-dateutil>=2.8.2 in /usr/local/lib/python3.10/dist-packages (from pandas>=0.25.3->tabula-py) (2.8.2)\n",
            "Requirement already satisfied: pytz>=2020.1 in /usr/local/lib/python3.10/dist-packages (from pandas>=0.25.3->tabula-py) (2023.4)\n",
            "Requirement already satisfied: tzdata>=2022.1 in /usr/local/lib/python3.10/dist-packages (from pandas>=0.25.3->tabula-py) (2024.1)\n",
            "Requirement already satisfied: six>=1.5 in /usr/local/lib/python3.10/dist-packages (from python-dateutil>=2.8.2->pandas>=0.25.3->tabula-py) (1.16.0)\n",
            "Installing collected packages: tabula-py\n",
            "Successfully installed tabula-py-2.9.3\n"
          ]
        }
      ]
    },
    {
      "cell_type": "markdown",
      "source": [
        "Question 10:\n",
        "\n",
        "\n",
        "This PDF file has the marks of students in 5 subjects. Each page has the marks of students in a group. Each row has the marks of a single student.\n",
        "\n",
        "What is the total  Biology marks of students who scored more 78 or more marks in Economics in groups 1-36 (including both groups)?"
      ],
      "metadata": {
        "id": "5N4tav07dDL2"
      }
    },
    {
      "cell_type": "code",
      "source": [
        "import tabula\n",
        "import pandas as pd\n",
        "import numpy as np\n",
        "\n",
        "l = tabula.read_pdf('/content/ga2.9.pdf', pages = \"1-36\") #change the \"pages\" as per your question\n",
        "l = np.array(l)\n",
        "l = l.reshape(-1,5)\n",
        "\n",
        "df = pd.DataFrame(data=l)\n",
        "df.columns = ['Maths', 'Physics', 'English' ,'Economics' ,'Biology']\n",
        "\n",
        "df[df[\"Economics\"] >= 78].sum() #change the condition as per your question\n"
      ],
      "metadata": {
        "id": "3RUvGDu9uAET"
      },
      "execution_count": null,
      "outputs": []
    }
  ]
}