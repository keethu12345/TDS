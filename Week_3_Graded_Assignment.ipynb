{
  "nbformat": 4,
  "nbformat_minor": 0,
  "metadata": {
    "colab": {
      "provenance": [],
      "include_colab_link": true
    },
    "kernelspec": {
      "name": "python3",
      "display_name": "Python 3"
    },
    "language_info": {
      "name": "python"
    }
  },
  "cells": [
    {
      "cell_type": "markdown",
      "metadata": {
        "id": "view-in-github",
        "colab_type": "text"
      },
      "source": [
        "<a href=\"https://colab.research.google.com/github/keethu12345/TDS/blob/main/Week_3_Graded_Assignment.ipynb\" target=\"_parent\"><img src=\"https://colab.research.google.com/assets/colab-badge.svg\" alt=\"Open In Colab\"/></a>"
      ]
    },
    {
      "cell_type": "code",
      "source": [
        "from google.colab import files\n",
        "uploaded = files.upload()"
      ],
      "metadata": {
        "colab": {
          "base_uri": "https://localhost:8080/",
          "height": 73
        },
        "collapsed": true,
        "id": "-TzXGKr4-Xe7",
        "outputId": "0a3eaa94-938b-4b5f-eab9-0524b12c9be3"
      },
      "execution_count": 19,
      "outputs": [
        {
          "output_type": "display_data",
          "data": {
            "text/plain": [
              "<IPython.core.display.HTML object>"
            ],
            "text/html": [
              "\n",
              "     <input type=\"file\" id=\"files-6cd9fcaf-3c03-414d-8e4e-3d7bca74f132\" name=\"files[]\" multiple disabled\n",
              "        style=\"border:none\" />\n",
              "     <output id=\"result-6cd9fcaf-3c03-414d-8e4e-3d7bca74f132\">\n",
              "      Upload widget is only available when the cell has been executed in the\n",
              "      current browser session. Please rerun this cell to enable.\n",
              "      </output>\n",
              "      <script>// Copyright 2017 Google LLC\n",
              "//\n",
              "// Licensed under the Apache License, Version 2.0 (the \"License\");\n",
              "// you may not use this file except in compliance with the License.\n",
              "// You may obtain a copy of the License at\n",
              "//\n",
              "//      http://www.apache.org/licenses/LICENSE-2.0\n",
              "//\n",
              "// Unless required by applicable law or agreed to in writing, software\n",
              "// distributed under the License is distributed on an \"AS IS\" BASIS,\n",
              "// WITHOUT WARRANTIES OR CONDITIONS OF ANY KIND, either express or implied.\n",
              "// See the License for the specific language governing permissions and\n",
              "// limitations under the License.\n",
              "\n",
              "/**\n",
              " * @fileoverview Helpers for google.colab Python module.\n",
              " */\n",
              "(function(scope) {\n",
              "function span(text, styleAttributes = {}) {\n",
              "  const element = document.createElement('span');\n",
              "  element.textContent = text;\n",
              "  for (const key of Object.keys(styleAttributes)) {\n",
              "    element.style[key] = styleAttributes[key];\n",
              "  }\n",
              "  return element;\n",
              "}\n",
              "\n",
              "// Max number of bytes which will be uploaded at a time.\n",
              "const MAX_PAYLOAD_SIZE = 100 * 1024;\n",
              "\n",
              "function _uploadFiles(inputId, outputId) {\n",
              "  const steps = uploadFilesStep(inputId, outputId);\n",
              "  const outputElement = document.getElementById(outputId);\n",
              "  // Cache steps on the outputElement to make it available for the next call\n",
              "  // to uploadFilesContinue from Python.\n",
              "  outputElement.steps = steps;\n",
              "\n",
              "  return _uploadFilesContinue(outputId);\n",
              "}\n",
              "\n",
              "// This is roughly an async generator (not supported in the browser yet),\n",
              "// where there are multiple asynchronous steps and the Python side is going\n",
              "// to poll for completion of each step.\n",
              "// This uses a Promise to block the python side on completion of each step,\n",
              "// then passes the result of the previous step as the input to the next step.\n",
              "function _uploadFilesContinue(outputId) {\n",
              "  const outputElement = document.getElementById(outputId);\n",
              "  const steps = outputElement.steps;\n",
              "\n",
              "  const next = steps.next(outputElement.lastPromiseValue);\n",
              "  return Promise.resolve(next.value.promise).then((value) => {\n",
              "    // Cache the last promise value to make it available to the next\n",
              "    // step of the generator.\n",
              "    outputElement.lastPromiseValue = value;\n",
              "    return next.value.response;\n",
              "  });\n",
              "}\n",
              "\n",
              "/**\n",
              " * Generator function which is called between each async step of the upload\n",
              " * process.\n",
              " * @param {string} inputId Element ID of the input file picker element.\n",
              " * @param {string} outputId Element ID of the output display.\n",
              " * @return {!Iterable<!Object>} Iterable of next steps.\n",
              " */\n",
              "function* uploadFilesStep(inputId, outputId) {\n",
              "  const inputElement = document.getElementById(inputId);\n",
              "  inputElement.disabled = false;\n",
              "\n",
              "  const outputElement = document.getElementById(outputId);\n",
              "  outputElement.innerHTML = '';\n",
              "\n",
              "  const pickedPromise = new Promise((resolve) => {\n",
              "    inputElement.addEventListener('change', (e) => {\n",
              "      resolve(e.target.files);\n",
              "    });\n",
              "  });\n",
              "\n",
              "  const cancel = document.createElement('button');\n",
              "  inputElement.parentElement.appendChild(cancel);\n",
              "  cancel.textContent = 'Cancel upload';\n",
              "  const cancelPromise = new Promise((resolve) => {\n",
              "    cancel.onclick = () => {\n",
              "      resolve(null);\n",
              "    };\n",
              "  });\n",
              "\n",
              "  // Wait for the user to pick the files.\n",
              "  const files = yield {\n",
              "    promise: Promise.race([pickedPromise, cancelPromise]),\n",
              "    response: {\n",
              "      action: 'starting',\n",
              "    }\n",
              "  };\n",
              "\n",
              "  cancel.remove();\n",
              "\n",
              "  // Disable the input element since further picks are not allowed.\n",
              "  inputElement.disabled = true;\n",
              "\n",
              "  if (!files) {\n",
              "    return {\n",
              "      response: {\n",
              "        action: 'complete',\n",
              "      }\n",
              "    };\n",
              "  }\n",
              "\n",
              "  for (const file of files) {\n",
              "    const li = document.createElement('li');\n",
              "    li.append(span(file.name, {fontWeight: 'bold'}));\n",
              "    li.append(span(\n",
              "        `(${file.type || 'n/a'}) - ${file.size} bytes, ` +\n",
              "        `last modified: ${\n",
              "            file.lastModifiedDate ? file.lastModifiedDate.toLocaleDateString() :\n",
              "                                    'n/a'} - `));\n",
              "    const percent = span('0% done');\n",
              "    li.appendChild(percent);\n",
              "\n",
              "    outputElement.appendChild(li);\n",
              "\n",
              "    const fileDataPromise = new Promise((resolve) => {\n",
              "      const reader = new FileReader();\n",
              "      reader.onload = (e) => {\n",
              "        resolve(e.target.result);\n",
              "      };\n",
              "      reader.readAsArrayBuffer(file);\n",
              "    });\n",
              "    // Wait for the data to be ready.\n",
              "    let fileData = yield {\n",
              "      promise: fileDataPromise,\n",
              "      response: {\n",
              "        action: 'continue',\n",
              "      }\n",
              "    };\n",
              "\n",
              "    // Use a chunked sending to avoid message size limits. See b/62115660.\n",
              "    let position = 0;\n",
              "    do {\n",
              "      const length = Math.min(fileData.byteLength - position, MAX_PAYLOAD_SIZE);\n",
              "      const chunk = new Uint8Array(fileData, position, length);\n",
              "      position += length;\n",
              "\n",
              "      const base64 = btoa(String.fromCharCode.apply(null, chunk));\n",
              "      yield {\n",
              "        response: {\n",
              "          action: 'append',\n",
              "          file: file.name,\n",
              "          data: base64,\n",
              "        },\n",
              "      };\n",
              "\n",
              "      let percentDone = fileData.byteLength === 0 ?\n",
              "          100 :\n",
              "          Math.round((position / fileData.byteLength) * 100);\n",
              "      percent.textContent = `${percentDone}% done`;\n",
              "\n",
              "    } while (position < fileData.byteLength);\n",
              "  }\n",
              "\n",
              "  // All done.\n",
              "  yield {\n",
              "    response: {\n",
              "      action: 'complete',\n",
              "    }\n",
              "  };\n",
              "}\n",
              "\n",
              "scope.google = scope.google || {};\n",
              "scope.google.colab = scope.google.colab || {};\n",
              "scope.google.colab._files = {\n",
              "  _uploadFiles,\n",
              "  _uploadFilesContinue,\n",
              "};\n",
              "})(self);\n",
              "</script> "
            ]
          },
          "metadata": {}
        },
        {
          "output_type": "stream",
          "name": "stdout",
          "text": [
            "Saving s-anand.net-May-2024.gz to s-anand.net-May-2024.gz\n"
          ]
        }
      ]
    },
    {
      "cell_type": "code",
      "source": [
        "!ls -l\n"
      ],
      "metadata": {
        "colab": {
          "base_uri": "https://localhost:8080/"
        },
        "collapsed": true,
        "id": "dP_pixeEDNx9",
        "outputId": "29984fc5-7ebd-4dd4-8965-7409135905c6"
      },
      "execution_count": 20,
      "outputs": [
        {
          "output_type": "stream",
          "name": "stdout",
          "text": [
            "total 68460\n",
            "drwxr-xr-x 1 root root     4096 Jun 20 18:46 sample_data\n",
            "-rw-r--r-- 1 root root 63565483 Jun 23 16:57 s-anand.net-May-2024\n",
            "-rw-r--r-- 1 root root  6529375 Jun 23 17:11 s-anand.net-May-2024.gz\n"
          ]
        }
      ]
    },
    {
      "cell_type": "code",
      "source": [
        "print(uploaded.keys())\n"
      ],
      "metadata": {
        "colab": {
          "base_uri": "https://localhost:8080/"
        },
        "collapsed": true,
        "id": "E45GNuGTDmEX",
        "outputId": "92028dba-5edb-4ecb-e27f-1e84effc16b2"
      },
      "execution_count": 22,
      "outputs": [
        {
          "output_type": "stream",
          "name": "stdout",
          "text": [
            "dict_keys(['s-anand.net-May-2024.gz'])\n"
          ]
        }
      ]
    },
    {
      "cell_type": "code",
      "source": [
        "filename = next(iter(uploaded.keys()))"
      ],
      "metadata": {
        "id": "dJcO6h2fDukP"
      },
      "execution_count": 23,
      "outputs": []
    },
    {
      "cell_type": "code",
      "source": [
        "import os\n",
        "if os.path.exists(filename):\n",
        "    print(f\"File {filename} found.\")\n",
        "else:\n",
        "    print(f\"File {filename} not found.\")\n"
      ],
      "metadata": {
        "collapsed": true,
        "colab": {
          "base_uri": "https://localhost:8080/"
        },
        "id": "NiVCAi9sDyD_",
        "outputId": "198ac118-8c32-4427-a3fc-7e2d9ea30243"
      },
      "execution_count": 24,
      "outputs": [
        {
          "output_type": "stream",
          "name": "stdout",
          "text": [
            "File s-anand.net-May-2024.gz found.\n"
          ]
        }
      ]
    },
    {
      "cell_type": "code",
      "source": [
        "!file s-anand.net-May-2024.gz\n"
      ],
      "metadata": {
        "colab": {
          "base_uri": "https://localhost:8080/"
        },
        "collapsed": true,
        "id": "X5Cr1WjwEWNH",
        "outputId": "46ced35a-e0b6-4c63-9e92-3d73aee7c59f"
      },
      "execution_count": 25,
      "outputs": [
        {
          "output_type": "stream",
          "name": "stdout",
          "text": [
            "s-anand.net-May-2024.gz: gzip compressed data, was \"data\", last modified: Fri Jun  7 06:25:34 2024, max compression, from Unix, original size modulo 2^32 63565483\n"
          ]
        }
      ]
    },
    {
      "cell_type": "markdown",
      "source": [
        "Question 1:"
      ],
      "metadata": {
        "id": "QdzacNTbbQ6e"
      }
    },
    {
      "cell_type": "code",
      "execution_count": 30,
      "metadata": {
        "colab": {
          "base_uri": "https://localhost:8080/"
        },
        "outputId": "243cba0a-3ff9-40f7-e2fe-b8f0fbb7fdc7",
        "id": "UMde79DBdBrg",
        "collapsed": true
      },
      "outputs": [
        {
          "output_type": "stream",
          "name": "stderr",
          "text": [
            "<ipython-input-30-7191e8612971>:45: SettingWithCopyWarning: \n",
            "A value is trying to be set on a copy of a slice from a DataFrame.\n",
            "Try using .loc[row_indexer,col_indexer] = value instead\n",
            "\n",
            "See the caveats in the documentation: https://pandas.pydata.org/pandas-docs/stable/user_guide/indexing.html#returning-a-view-versus-a-copy\n",
            "  tamil_requests[\"Day_of_week\"]=tamil_requests[\"Time\"].dt.day_name()\n",
            "<ipython-input-30-7191e8612971>:46: SettingWithCopyWarning: \n",
            "A value is trying to be set on a copy of a slice from a DataFrame.\n",
            "Try using .loc[row_indexer,col_indexer] = value instead\n",
            "\n",
            "See the caveats in the documentation: https://pandas.pydata.org/pandas-docs/stable/user_guide/indexing.html#returning-a-view-versus-a-copy\n",
            "  tamil_requests[\"Hour\"]=tamil_requests[\"Time\"].dt.hour\n"
          ]
        },
        {
          "output_type": "execute_result",
          "data": {
            "text/plain": [
              "28"
            ]
          },
          "metadata": {},
          "execution_count": 30
        }
      ],
      "source": [
        "#importing required libraries\n",
        "import gzip\n",
        "import re\n",
        "import pandas as pd\n",
        "from datetime import datetime\n",
        "\n",
        "# Define the path to the uploaded file\n",
        "path= 's-anand.net-May-2024.gz'\n",
        "\n",
        "# Initialize an empty list to store the parsed log entries\n",
        "log_files=[]\n",
        "\n",
        "#read the gzip file\n",
        "with gzip.open(path, \"rt\") as file:\n",
        "  for line in file:\n",
        "    # (\\S+) (\\S+) (\\S+) \\[([^\\]]+)\\] \"(\\S+) (\\S+) (\\S+)\" (\\d{3}) (\\d+|-) \"([^\"]*)\" \"([^\"]*)\" (\\S+) (\\S+)\n",
        "    pattern = re.compile(r'(\\S+) (\\S+) (\\S+) \\[([^\\]]+)\\] \"(\\S+) (\\S+) (\\S+)\" (\\d{3}) (\\d+|-) \"([^\"]*)\" \"([^\"]*)\" (\\S+) (\\S+)')\n",
        "    matched=pattern.match(line)\n",
        "    if matched:\n",
        "      log_files.append(matched.groups())\n",
        "\n",
        "#Initializing column names\n",
        "columns=[\"IP\",\"Remote_logname\",\"Remote_user\",\"Time\",\"Method\",\"URL\",\"Protocol\",\"Status\",\"Size\",\"Referer\",\"User_agent\",\"Vhost\",\"Server\"]\n",
        "\n",
        "#Creating Panda dataframe\n",
        "df=pd.DataFrame(log_files,columns=columns)\n",
        "# print(df.shape)\n",
        "# display(df)\n",
        "\n",
        "#Convert the 'Time' column to datetime\n",
        "df[\"Time\"]=pd.to_datetime(df[\"Time\"],format='%d/%b/%Y:%H:%M:%S %z')\n",
        "\n",
        "#Check for method and status\n",
        "successful_get_requests=df[\n",
        "    (df['Method']==\"GET\") &\n",
        "    (df['Status'].astype(int)>=200) &\n",
        "    (df['Status'].astype(int)<300)\n",
        "]\n",
        "\n",
        "#filter for request tamil\n",
        "tamil_requests=successful_get_requests[successful_get_requests[\"URL\"].str.startswith(\"/telugu/\")]\n",
        "# display(telugu_requests)\n",
        "\n",
        "#extract day and hour\n",
        "tamil_requests[\"Day_of_week\"]=tamil_requests[\"Time\"].dt.day_name()\n",
        "tamil_requests[\"Hour\"]=tamil_requests[\"Time\"].dt.hour\n",
        "# display(tamil_requests)\n",
        "\n",
        "#check for day and hour\n",
        "monday_requests=tamil_requests[\n",
        "    (tamil_requests[\"Day_of_week\"]== \"Saturday\") &\n",
        "    (tamil_requests[\"Hour\"]>=11) &\n",
        "    (tamil_requests[\"Hour\"]<15)\n",
        "]\n",
        "\n",
        "#Get the count of these requests\n",
        "monday_requests.shape[0]"
      ]
    },
    {
      "cell_type": "markdown",
      "source": [
        "Question 2:"
      ],
      "metadata": {
        "id": "hMgU4PgEfryE"
      }
    },
    {
      "cell_type": "code",
      "execution_count": 31,
      "metadata": {
        "colab": {
          "base_uri": "https://localhost:8080/"
        },
        "outputId": "b2d814c6-4cc7-4ec2-fffa-77632600beb6",
        "collapsed": true,
        "id": "2J5picyJGdMX"
      },
      "outputs": [
        {
          "output_type": "stream",
          "name": "stderr",
          "text": [
            "<ipython-input-31-8fd410f95a52>:45: SettingWithCopyWarning: \n",
            "A value is trying to be set on a copy of a slice from a DataFrame.\n",
            "Try using .loc[row_indexer,col_indexer] = value instead\n",
            "\n",
            "See the caveats in the documentation: https://pandas.pydata.org/pandas-docs/stable/user_guide/indexing.html#returning-a-view-versus-a-copy\n",
            "  tamil_requests[\"Day_of_week\"]=tamil_requests[\"Time\"].dt.day_name()\n",
            "<ipython-input-31-8fd410f95a52>:46: SettingWithCopyWarning: \n",
            "A value is trying to be set on a copy of a slice from a DataFrame.\n",
            "Try using .loc[row_indexer,col_indexer] = value instead\n",
            "\n",
            "See the caveats in the documentation: https://pandas.pydata.org/pandas-docs/stable/user_guide/indexing.html#returning-a-view-versus-a-copy\n",
            "  tamil_requests[\"Hour\"]=tamil_requests[\"Time\"].dt.hour\n"
          ]
        },
        {
          "output_type": "execute_result",
          "data": {
            "text/plain": [
              "173"
            ]
          },
          "metadata": {},
          "execution_count": 31
        }
      ],
      "source": [
        "#importing required libraries\n",
        "import gzip\n",
        "import re\n",
        "import pandas as pd\n",
        "from datetime import datetime\n",
        "\n",
        "# Define the path to the uploaded file\n",
        "path= 's-anand.net-May-2024.gz'\n",
        "\n",
        "# Initialize an empty list to store the parsed log entries\n",
        "log_files=[]\n",
        "\n",
        "#read the gzip file\n",
        "with gzip.open(path, \"rt\") as file:\n",
        "  for line in file:\n",
        "    # (\\S+) (\\S+) (\\S+) \\[([^\\]]+)\\] \"(\\S+) (\\S+) (\\S+)\" (\\d{3}) (\\d+|-) \"([^\"]*)\" \"([^\"]*)\" (\\S+) (\\S+)\n",
        "    pattern = re.compile(r'(\\S+) (\\S+) (\\S+) \\[([^\\]]+)\\] \"(\\S+) (\\S+) (\\S+)\" (\\d{3}) (\\d+|-) \"([^\"]*)\" \"([^\"]*)\" (\\S+) (\\S+)')\n",
        "    matched=pattern.match(line)\n",
        "    if matched:\n",
        "      log_files.append(matched.groups())\n",
        "\n",
        "#Initializing column names\n",
        "columns=[\"IP\",\"Remote_logname\",\"Remote_user\",\"Time\",\"Method\",\"URL\",\"Protocol\",\"Status\",\"Size\",\"Referer\",\"User_agent\",\"Vhost\",\"Server\"]\n",
        "\n",
        "#Creating Panda dataframe\n",
        "df=pd.DataFrame(log_files,columns=columns)\n",
        "# print(df.shape)\n",
        "# display(df)\n",
        "\n",
        "#Convert the 'Time' column to datetime\n",
        "df[\"Time\"]=pd.to_datetime(df[\"Time\"],format='%d/%b/%Y:%H:%M:%S %z')\n",
        "\n",
        "#Check for method and status\n",
        "successful_get_requests=df[\n",
        "    (df['Method']==\"GET\") &\n",
        "    (df['Status'].astype(int)>=200) &\n",
        "    (df['Status'].astype(int)<300)\n",
        "]\n",
        "\n",
        "#filter for request tamil\n",
        "tamil_requests=successful_get_requests[successful_get_requests[\"URL\"].str.startswith(\"/hindi/\")]\n",
        "# display(telugu_requests)\n",
        "\n",
        "#extract day and hour\n",
        "tamil_requests[\"Day_of_week\"]=tamil_requests[\"Time\"].dt.day_name()\n",
        "tamil_requests[\"Hour\"]=tamil_requests[\"Time\"].dt.hour\n",
        "# display(tamil_requests)\n",
        "\n",
        "#check for day and hour\n",
        "monday_requests=tamil_requests[\n",
        "    (tamil_requests[\"Day_of_week\"]== \"Wednesday\") &\n",
        "    (tamil_requests[\"Hour\"]>=3) &\n",
        "    (tamil_requests[\"Hour\"]<8)\n",
        "]\n",
        "\n",
        "#Get the count of these requests\n",
        "monday_requests.shape[0]"
      ]
    },
    {
      "cell_type": "markdown",
      "source": [
        "Question 3:"
      ],
      "metadata": {
        "id": "3uf47QbbofrS"
      }
    },
    {
      "cell_type": "code",
      "execution_count": 32,
      "metadata": {
        "colab": {
          "base_uri": "https://localhost:8080/"
        },
        "outputId": "f5b48827-1b7e-4579-91b3-008c9bc6467c",
        "id": "bQz9g0qSmMlI",
        "collapsed": true
      },
      "outputs": [
        {
          "output_type": "stream",
          "name": "stderr",
          "text": [
            "<ipython-input-32-4e9d4dee881f>:39: SettingWithCopyWarning: \n",
            "A value is trying to be set on a copy of a slice from a DataFrame.\n",
            "Try using .loc[row_indexer,col_indexer] = value instead\n",
            "\n",
            "See the caveats in the documentation: https://pandas.pydata.org/pandas-docs/stable/user_guide/indexing.html#returning-a-view-versus-a-copy\n",
            "  hindi_requests_friday[\"Hour\"]=hindi_requests_friday[\"Time\"].dt.hour\n"
          ]
        },
        {
          "output_type": "execute_result",
          "data": {
            "text/plain": [
              "(5, 42)"
            ]
          },
          "metadata": {},
          "execution_count": 32
        }
      ],
      "source": [
        "#importing required libraries\n",
        "import gzip\n",
        "import re\n",
        "import pandas as pd\n",
        "from datetime import datetime\n",
        "\n",
        "# Define the path to the uploaded file\n",
        "path= 's-anand.net-May-2024.gz'\n",
        "\n",
        "# Initialize an empty list to store the parsed log entries\n",
        "log_files=[]\n",
        "\n",
        "#read the gzip file\n",
        "with gzip.open(path, \"rt\") as file:\n",
        "  for line in file:\n",
        "    # (\\S+) (\\S+) (\\S+) \\[([^\\]]+)\\] \"(\\S+) (\\S+) (\\S+)\" (\\d{3}) (\\d+|-) \"([^\"]*)\" \"([^\"]*)\" (\\S+) (\\S+)\n",
        "    pattern = re.compile(r'(\\S+) (\\S+) (\\S+) \\[([^\\]]+)\\] \"(\\S+) (\\S+) (\\S+)\" (\\d{3}) (\\d+|-) \"([^\"]*)\" \"([^\"]*)\" (\\S+) (\\S+)')\n",
        "    matched=pattern.match(line)\n",
        "    if matched:\n",
        "      log_files.append(matched.groups())\n",
        "\n",
        "#Initializing column names\n",
        "columns=[\"IP\",\"Remote_logname\",\"Remote_user\",\"Time\",\"Method\",\"URL\",\"Protocol\",\"Status\",\"Size\",\"Referer\",\"User_agent\",\"Vhost\",\"Server\"]\n",
        "\n",
        "#Creating Panda dataframe\n",
        "df=pd.DataFrame(log_files,columns=columns)\n",
        "# print(df.shape)\n",
        "# display(df)\n",
        "\n",
        "#Convert the 'Time' column to datetime\n",
        "df[\"Time\"]=pd.to_datetime(df[\"Time\"],format='%d/%b/%Y:%H:%M:%S %z')\n",
        "\n",
        "#filter for request hindi\n",
        "hindi_requests=df[df[\"URL\"].str.startswith(\"/tamil/\")]\n",
        "# display(hindi_requests)\n",
        "\n",
        "# #extract the hindi request on wednesday and add a column hour\n",
        "hindi_requests_friday=hindi_requests[hindi_requests[\"Time\"].dt.day_name()==\"Monday\"]\n",
        "hindi_requests_friday[\"Hour\"]=hindi_requests_friday[\"Time\"].dt.hour\n",
        "# display(hindi_requests_friday)\n",
        "\n",
        "#hourly group the unique IP addresses\n",
        "hindi_requests_unique_ip=hindi_requests_friday.groupby(\"Hour\")[\"IP\"].nunique()\n",
        "\n",
        "\n",
        "# show the peak hour and maximum ip addresses\n",
        "hindi_requests_unique_ip.idxmax(),hindi_requests_unique_ip.max()"
      ]
    },
    {
      "cell_type": "markdown",
      "source": [
        "Question 4:"
      ],
      "metadata": {
        "id": "XsEbYBazpbRi"
      }
    },
    {
      "cell_type": "code",
      "execution_count": 33,
      "metadata": {
        "colab": {
          "base_uri": "https://localhost:8080/"
        },
        "outputId": "ef845b6a-a667-4ee4-943b-b306b9c7f130",
        "collapsed": true,
        "id": "VYeXPNksHR8z"
      },
      "outputs": [
        {
          "output_type": "stream",
          "name": "stderr",
          "text": [
            "<ipython-input-33-277bb89fba83>:39: SettingWithCopyWarning: \n",
            "A value is trying to be set on a copy of a slice from a DataFrame.\n",
            "Try using .loc[row_indexer,col_indexer] = value instead\n",
            "\n",
            "See the caveats in the documentation: https://pandas.pydata.org/pandas-docs/stable/user_guide/indexing.html#returning-a-view-versus-a-copy\n",
            "  hindi_requests_friday[\"Hour\"]=hindi_requests_friday[\"Time\"].dt.hour\n"
          ]
        },
        {
          "output_type": "execute_result",
          "data": {
            "text/plain": [
              "(5, 12)"
            ]
          },
          "metadata": {},
          "execution_count": 33
        }
      ],
      "source": [
        "#importing required libraries\n",
        "import gzip\n",
        "import re\n",
        "import pandas as pd\n",
        "from datetime import datetime\n",
        "\n",
        "# Define the path to the uploaded file\n",
        "path= 's-anand.net-May-2024.gz'\n",
        "\n",
        "# Initialize an empty list to store the parsed log entries\n",
        "log_files=[]\n",
        "\n",
        "#read the gzip file\n",
        "with gzip.open(path, \"rt\") as file:\n",
        "  for line in file:\n",
        "    # (\\S+) (\\S+) (\\S+) \\[([^\\]]+)\\] \"(\\S+) (\\S+) (\\S+)\" (\\d{3}) (\\d+|-) \"([^\"]*)\" \"([^\"]*)\" (\\S+) (\\S+)\n",
        "    pattern = re.compile(r'(\\S+) (\\S+) (\\S+) \\[([^\\]]+)\\] \"(\\S+) (\\S+) (\\S+)\" (\\d{3}) (\\d+|-) \"([^\"]*)\" \"([^\"]*)\" (\\S+) (\\S+)')\n",
        "    matched=pattern.match(line)\n",
        "    if matched:\n",
        "      log_files.append(matched.groups())\n",
        "\n",
        "#Initializing column names\n",
        "columns=[\"IP\",\"Remote_logname\",\"Remote_user\",\"Time\",\"Method\",\"URL\",\"Protocol\",\"Status\",\"Size\",\"Referer\",\"User_agent\",\"Vhost\",\"Server\"]\n",
        "\n",
        "#Creating Panda dataframe\n",
        "df=pd.DataFrame(log_files,columns=columns)\n",
        "# print(df.shape)\n",
        "# display(df)\n",
        "\n",
        "#Convert the 'Time' column to datetime\n",
        "df[\"Time\"]=pd.to_datetime(df[\"Time\"],format='%d/%b/%Y:%H:%M:%S %z')\n",
        "\n",
        "#filter for request hindi\n",
        "hindi_requests=df[df[\"URL\"].str.startswith(\"/tamilmp3/\")]\n",
        "# display(hindi_requests)\n",
        "\n",
        "# #extract the hindi request on wednesday and add a column hour\n",
        "hindi_requests_friday=hindi_requests[hindi_requests[\"Time\"].dt.day_name()==\"Sunday\"]\n",
        "hindi_requests_friday[\"Hour\"]=hindi_requests_friday[\"Time\"].dt.hour\n",
        "# display(hindi_requests_friday)\n",
        "\n",
        "#hourly group the unique IP addresses\n",
        "hindi_requests_unique_ip=hindi_requests_friday.groupby(\"Hour\")[\"IP\"].nunique()\n",
        "\n",
        "\n",
        "# show the peak hour and maximum ip addresses\n",
        "hindi_requests_unique_ip.idxmax(),hindi_requests_unique_ip.max()"
      ]
    },
    {
      "cell_type": "markdown",
      "source": [
        "Question 5:"
      ],
      "metadata": {
        "id": "0KXm_VHtH2C5"
      }
    },
    {
      "cell_type": "code",
      "execution_count": 34,
      "metadata": {
        "colab": {
          "base_uri": "https://localhost:8080/"
        },
        "outputId": "6c2d13ea-986e-4f5e-ebe4-415711206d64",
        "id": "xQ-mVHfOpjo5",
        "collapsed": true
      },
      "outputs": [
        {
          "output_type": "stream",
          "name": "stderr",
          "text": [
            "<ipython-input-34-e6982affc9a5>:40: SettingWithCopyWarning: \n",
            "A value is trying to be set on a copy of a slice from a DataFrame.\n",
            "Try using .loc[row_indexer,col_indexer] = value instead\n",
            "\n",
            "See the caveats in the documentation: https://pandas.pydata.org/pandas-docs/stable/user_guide/indexing.html#returning-a-view-versus-a-copy\n",
            "  tamil_requests_date[\"Size\"] = pd.to_numeric(tamil_requests_date[\"Size\"], errors='coerce').fillna(0)\n"
          ]
        },
        {
          "output_type": "execute_result",
          "data": {
            "text/plain": [
              "('136.243.228.193', 93589)"
            ]
          },
          "metadata": {},
          "execution_count": 34
        }
      ],
      "source": [
        "#importing required libraries\n",
        "import gzip\n",
        "import re\n",
        "import pandas as pd\n",
        "from datetime import datetime\n",
        "\n",
        "# Define the path to the uploaded file\n",
        "path= 's-anand.net-May-2024.gz'\n",
        "\n",
        "# Initialize an empty list to store the parsed log entries\n",
        "log_files=[]\n",
        "\n",
        "#read the gzip file\n",
        "with gzip.open(path, \"rt\") as file:\n",
        "  for line in file:\n",
        "    # (\\S+) (\\S+) (\\S+) \\[([^\\]]+)\\] \"(\\S+) (\\S+) (\\S+)\" (\\d{3}) (\\d+|-) \"([^\"]*)\" \"([^\"]*)\" (\\S+) (\\S+)\n",
        "    pattern = re.compile(r'(\\S+) (\\S+) (\\S+) \\[([^\\]]+)\\] \"(\\S+) (\\S+) (\\S+)\" (\\d{3}) (\\d+|-) \"([^\"]*)\" \"([^\"]*)\" (\\S+) (\\S+)')\n",
        "    matched=pattern.match(line)\n",
        "    if matched:\n",
        "      log_files.append(matched.groups())\n",
        "\n",
        "#Initializing column names\n",
        "columns=[\"IP\",\"Remote_logname\",\"Remote_user\",\"Time\",\"Method\",\"URL\",\"Protocol\",\"Status\",\"Size\",\"Referer\",\"User_agent\",\"Vhost\",\"Server\"]\n",
        "\n",
        "#Creating Panda dataframe\n",
        "df=pd.DataFrame(log_files,columns=columns)\n",
        "# print(df.shape)\n",
        "# display(df)\n",
        "\n",
        "#Convert the 'Time' column to datetime\n",
        "df[\"Time\"]=pd.to_datetime(df[\"Time\"],format='%d/%b/%Y:%H:%M:%S %z')\n",
        "\n",
        "#filter for request tamil\n",
        "tamil_requests=df[df[\"URL\"].str.startswith(\"/kannadamp3/\")]\n",
        "\n",
        "# #extract the tamil request on this date\n",
        "tamil_requests_date=tamil_requests[tamil_requests[\"Time\"].dt.date==datetime(2024,5,21).date()]\n",
        "\n",
        "# Convert the 'Size' column to numeric (setting errors='coerce' to handle any '-' entries)\n",
        "tamil_requests_date[\"Size\"] = pd.to_numeric(tamil_requests_date[\"Size\"], errors='coerce').fillna(0)\n",
        "# display(tamil_requests_date)\n",
        "\n",
        "# Add up the \"Size\" of responses for each IP address\n",
        "total_size_per_ip=tamil_requests_date.groupby(\"IP\")[\"Size\"].sum()\n",
        "\n",
        "# Find the IP address that downloaded the most bytes\n",
        "total_size_per_ip.idxmax(),total_size_per_ip.max()"
      ]
    },
    {
      "cell_type": "markdown",
      "source": [
        "Question 6:"
      ],
      "metadata": {
        "id": "03_P6ChIIOj9"
      }
    },
    {
      "cell_type": "code",
      "execution_count": 35,
      "metadata": {
        "colab": {
          "base_uri": "https://localhost:8080/"
        },
        "outputId": "34fcbe3f-fb0d-49c4-b720-d3dfbe686402",
        "id": "iGAUHIKhtal8",
        "collapsed": true
      },
      "outputs": [
        {
          "output_type": "stream",
          "name": "stderr",
          "text": [
            "<ipython-input-35-add7781fcea1>:40: SettingWithCopyWarning: \n",
            "A value is trying to be set on a copy of a slice from a DataFrame.\n",
            "Try using .loc[row_indexer,col_indexer] = value instead\n",
            "\n",
            "See the caveats in the documentation: https://pandas.pydata.org/pandas-docs/stable/user_guide/indexing.html#returning-a-view-versus-a-copy\n",
            "  tamil_requests_date[\"Size\"] = pd.to_numeric(tamil_requests_date[\"Size\"], errors='coerce').fillna(0)\n"
          ]
        },
        {
          "output_type": "execute_result",
          "data": {
            "text/plain": [
              "('17.241.227.195', 2861)"
            ]
          },
          "metadata": {},
          "execution_count": 35
        }
      ],
      "source": [
        "#importing required libraries\n",
        "import gzip\n",
        "import re\n",
        "import pandas as pd\n",
        "from datetime import datetime\n",
        "\n",
        "# Define the path to the uploaded file\n",
        "path= 's-anand.net-May-2024.gz'\n",
        "\n",
        "# Initialize an empty list to store the parsed log entries\n",
        "log_files=[]\n",
        "\n",
        "#read the gzip file\n",
        "with gzip.open(path, \"rt\") as file:\n",
        "  for line in file:\n",
        "    # (\\S+) (\\S+) (\\S+) \\[([^\\]]+)\\] \"(\\S+) (\\S+) (\\S+)\" (\\d{3}) (\\d+|-) \"([^\"]*)\" \"([^\"]*)\" (\\S+) (\\S+)\n",
        "    pattern = re.compile(r'(\\S+) (\\S+) (\\S+) \\[([^\\]]+)\\] \"(\\S+) (\\S+) (\\S+)\" (\\d{3}) (\\d+|-) \"([^\"]*)\" \"([^\"]*)\" (\\S+) (\\S+)')\n",
        "    matched=pattern.match(line)\n",
        "    if matched:\n",
        "      log_files.append(matched.groups())\n",
        "\n",
        "#Initializing column names\n",
        "columns=[\"IP\",\"Remote_logname\",\"Remote_user\",\"Time\",\"Method\",\"URL\",\"Protocol\",\"Status\",\"Size\",\"Referer\",\"User_agent\",\"Vhost\",\"Server\"]\n",
        "\n",
        "#Creating Panda dataframe\n",
        "df=pd.DataFrame(log_files,columns=columns)\n",
        "# print(df.shape)\n",
        "# display(df)\n",
        "\n",
        "#Convert the 'Time' column to datetime\n",
        "df[\"Time\"]=pd.to_datetime(df[\"Time\"],format='%d/%b/%Y:%H:%M:%S %z')\n",
        "\n",
        "#filter for request tamil\n",
        "tamil_requests=df[df[\"URL\"].str.startswith(\"/malayalammp3/\")]\n",
        "\n",
        "# #extract the tamil request on this date\n",
        "tamil_requests_date=tamil_requests[tamil_requests[\"Time\"].dt.date==datetime(2024,5,12).date()]\n",
        "\n",
        "# Convert the 'Size' column to numeric (setting errors='coerce' to handle any '-' entries)\n",
        "tamil_requests_date[\"Size\"] = pd.to_numeric(tamil_requests_date[\"Size\"], errors='coerce').fillna(0)\n",
        "# display(tamil_requests_date)\n",
        "\n",
        "# Add up the \"Size\" of responses for each IP address\n",
        "total_size_per_ip=tamil_requests_date.groupby(\"IP\")[\"Size\"].sum()\n",
        "\n",
        "# Find the IP address that downloaded the most bytes\n",
        "total_size_per_ip.idxmax(),total_size_per_ip.max()"
      ]
    },
    {
      "cell_type": "markdown",
      "source": [
        "Question 7:"
      ],
      "metadata": {
        "id": "D412U6GLIaLc"
      }
    },
    {
      "cell_type": "code",
      "source": [
        "import gzip\n",
        "import pandas as pd\n",
        "import re\n",
        "from datetime import datetime\n",
        "\n",
        "# Define the path to the gzip log file\n",
        "file_path = 's-anand.net-May-2024.gz'\n",
        "\n",
        "# Initialize a list to store the parsed log entries\n",
        "log_entries = []\n",
        "\n",
        "# Regular expression pattern to match the log line\n",
        "pattern = re.compile(r'(\\S+) (\\S+) (\\S+) \\[([^\\]]+)\\] \"(\\S+) (\\S+) (\\S+)\" (\\d{3}) (\\d+|-) \"([^\"]*)\" \"([^\"]*)\" (\\S+) (\\S+)')\n",
        "\n",
        "# Open and read the gzip file\n",
        "with gzip.open(file_path, 'rt') as file:\n",
        "    for line in file:\n",
        "        match = pattern.match(line)\n",
        "        if match:\n",
        "            log_entries.append(match.groups())\n",
        "\n",
        "# Convert the list of tuples into a DataFrame\n",
        "columns = [\"IP\", \"Remote_logname\", \"Remote_user\", \"Time\", \"Method\", \"URL\", \"Protocol\",\n",
        "           \"Status\", \"Size\", \"Referer\", \"User_agent\", \"Vhost\", \"Server\"]\n",
        "df = pd.DataFrame(log_entries, columns=columns)\n",
        "\n",
        "# Convert the 'Time' column to datetime\n",
        "df['Time'] = pd.to_datetime(df['Time'], format='%d/%b/%Y:%H:%M:%S %z')\n",
        "\n",
        "# Filter requests made on 2024-05-04 (ignoring time zone)\n",
        "date_filter = df['Time'].dt.date == datetime(2024, 5, 10).date()\n",
        "df_filtered = df[date_filter]\n",
        "\n",
        "# Extract major Chrome version from User_agent\n",
        "def extract_chrome_version(user_agent):\n",
        "    match = re.search(r'Chrome/(\\d+)\\.', user_agent)\n",
        "    return int(match.group(1)) if match else None\n",
        "\n",
        "df_filtered['Chrome_Version'] = df_filtered['User_agent'].apply(extract_chrome_version)\n",
        "\n",
        "# Filter out rows where Chrome version is not found\n",
        "df_chrome = df_filtered.dropna(subset=['Chrome_Version'])\n",
        "# display(df_chrome)\n",
        "\n",
        "# Count occurrences of each major Chrome version\n",
        "version_counts = df_chrome['Chrome_Version'].value_counts()\n",
        "\n",
        "# Find the most common major version\n",
        "most_common_version = version_counts.idxmax()\n",
        "most_common_version_count = version_counts.max()\n",
        "\n",
        "print(f\"The most common major Chrome version on 2024-05-04 is: {most_common_version}\")\n",
        "print(f\"It accessed the site {most_common_version_count} times.\")\n"
      ],
      "metadata": {
        "colab": {
          "base_uri": "https://localhost:8080/"
        },
        "id": "7zElbFQn0T8h",
        "outputId": "00a6279c-d324-44cc-dfcd-56ba7757481e",
        "collapsed": true
      },
      "execution_count": 36,
      "outputs": [
        {
          "output_type": "stream",
          "name": "stdout",
          "text": [
            "The most common major Chrome version on 2024-05-04 is: 124.0\n",
            "It accessed the site 483 times.\n"
          ]
        },
        {
          "output_type": "stream",
          "name": "stderr",
          "text": [
            "<ipython-input-36-fcacefea738b>:39: SettingWithCopyWarning: \n",
            "A value is trying to be set on a copy of a slice from a DataFrame.\n",
            "Try using .loc[row_indexer,col_indexer] = value instead\n",
            "\n",
            "See the caveats in the documentation: https://pandas.pydata.org/pandas-docs/stable/user_guide/indexing.html#returning-a-view-versus-a-copy\n",
            "  df_filtered['Chrome_Version'] = df_filtered['User_agent'].apply(extract_chrome_version)\n"
          ]
        }
      ]
    },
    {
      "cell_type": "markdown",
      "source": [
        "Question 8:"
      ],
      "metadata": {
        "id": "UW6Bg6V3Izhk"
      }
    },
    {
      "cell_type": "code",
      "source": [
        "import gzip\n",
        "import pandas as pd\n",
        "import re\n",
        "from datetime import datetime\n",
        "\n",
        "# Define the path to the gzip log file\n",
        "file_path = 's-anand.net-May-2024.gz'\n",
        "\n",
        "# Initialize a list to store the parsed log entries\n",
        "log_entries = []\n",
        "\n",
        "# Regular expression pattern to match the log line\n",
        "pattern = re.compile(r'(\\S+) (\\S+) (\\S+) \\[([^\\]]+)\\] \"(\\S+) (\\S+) (\\S+)\" (\\d{3}) (\\d+|-) \"([^\"]*)\" \"([^\"]*)\" (\\S+) (\\S+)')\n",
        "\n",
        "# Open and read the gzip file\n",
        "with gzip.open(file_path, 'rt') as file:\n",
        "    for line in file:\n",
        "        match = pattern.match(line)\n",
        "        if match:\n",
        "            log_entries.append(match.groups())\n",
        "\n",
        "# Convert the list of tuples into a DataFrame\n",
        "columns = [\"IP\", \"Remote_logname\", \"Remote_user\", \"Time\", \"Method\", \"URL\", \"Protocol\",\n",
        "           \"Status\", \"Size\", \"Referer\", \"User_agent\", \"Vhost\", \"Server\"]\n",
        "df = pd.DataFrame(log_entries, columns=columns)\n",
        "\n",
        "# Convert the 'Time' column to datetime\n",
        "df['Time'] = pd.to_datetime(df['Time'], format='%d/%b/%Y:%H:%M:%S %z')\n",
        "\n",
        "# Filter requests made on 2024-05-04 (ignoring time zone)\n",
        "date_filter = df['Time'].dt.date == datetime(2024, 5, 23).date()\n",
        "df_filtered = df[date_filter]\n",
        "\n",
        "# Extract major Chrome version from User_agent\n",
        "def extract_chrome_version(user_agent):\n",
        "    match = re.search(r'Chrome/(\\d+)\\.', user_agent)\n",
        "    return int(match.group(1)) if match else None\n",
        "\n",
        "df_filtered['Chrome_Version'] = df_filtered['User_agent'].apply(extract_chrome_version)\n",
        "\n",
        "# Filter out rows where Chrome version is not found\n",
        "df_chrome = df_filtered.dropna(subset=['Chrome_Version'])\n",
        "# display(df_chrome)\n",
        "\n",
        "# Count occurrences of each major Chrome version\n",
        "version_counts = df_chrome['Chrome_Version'].value_counts()\n",
        "\n",
        "# Find the most common major version\n",
        "most_common_version = version_counts.idxmax()\n",
        "most_common_version_count = version_counts.max()\n",
        "\n",
        "print(f\"The most common major Chrome version on 2024-05-04 is: {most_common_version}\")\n",
        "print(f\"It accessed the site {most_common_version_count} times.\")\n"
      ],
      "metadata": {
        "colab": {
          "base_uri": "https://localhost:8080/"
        },
        "outputId": "579be56e-34ca-441f-f157-d581b3ed07cd",
        "collapsed": true,
        "id": "wwodfDEuI5Lw"
      },
      "execution_count": 37,
      "outputs": [
        {
          "output_type": "stream",
          "name": "stdout",
          "text": [
            "The most common major Chrome version on 2024-05-04 is: 60.0\n",
            "It accessed the site 203 times.\n"
          ]
        },
        {
          "output_type": "stream",
          "name": "stderr",
          "text": [
            "<ipython-input-37-69f6421516e3>:39: SettingWithCopyWarning: \n",
            "A value is trying to be set on a copy of a slice from a DataFrame.\n",
            "Try using .loc[row_indexer,col_indexer] = value instead\n",
            "\n",
            "See the caveats in the documentation: https://pandas.pydata.org/pandas-docs/stable/user_guide/indexing.html#returning-a-view-versus-a-copy\n",
            "  df_filtered['Chrome_Version'] = df_filtered['User_agent'].apply(extract_chrome_version)\n"
          ]
        }
      ]
    },
    {
      "cell_type": "code",
      "source": [
        "!pip install pandas fuzzywuzzy python-Levenshtein\n"
      ],
      "metadata": {
        "colab": {
          "base_uri": "https://localhost:8080/"
        },
        "id": "wEwJTKhX3cil",
        "outputId": "7897e960-5e6f-40fd-ec4c-c207021d2458",
        "collapsed": true
      },
      "execution_count": 38,
      "outputs": [
        {
          "output_type": "stream",
          "name": "stdout",
          "text": [
            "Requirement already satisfied: pandas in /usr/local/lib/python3.10/dist-packages (2.0.3)\n",
            "Collecting fuzzywuzzy\n",
            "  Downloading fuzzywuzzy-0.18.0-py2.py3-none-any.whl (18 kB)\n",
            "Collecting python-Levenshtein\n",
            "  Downloading python_Levenshtein-0.25.1-py3-none-any.whl (9.4 kB)\n",
            "Requirement already satisfied: python-dateutil>=2.8.2 in /usr/local/lib/python3.10/dist-packages (from pandas) (2.8.2)\n",
            "Requirement already satisfied: pytz>=2020.1 in /usr/local/lib/python3.10/dist-packages (from pandas) (2023.4)\n",
            "Requirement already satisfied: tzdata>=2022.1 in /usr/local/lib/python3.10/dist-packages (from pandas) (2024.1)\n",
            "Requirement already satisfied: numpy>=1.21.0 in /usr/local/lib/python3.10/dist-packages (from pandas) (1.25.2)\n",
            "Collecting Levenshtein==0.25.1 (from python-Levenshtein)\n",
            "  Downloading Levenshtein-0.25.1-cp310-cp310-manylinux_2_17_x86_64.manylinux2014_x86_64.whl (177 kB)\n",
            "\u001b[2K     \u001b[90m━━━━━━━━━━━━━━━━━━━━━━━━━━━━━━━━━━━━━━━━\u001b[0m \u001b[32m177.4/177.4 kB\u001b[0m \u001b[31m7.4 MB/s\u001b[0m eta \u001b[36m0:00:00\u001b[0m\n",
            "\u001b[?25hCollecting rapidfuzz<4.0.0,>=3.8.0 (from Levenshtein==0.25.1->python-Levenshtein)\n",
            "  Downloading rapidfuzz-3.9.3-cp310-cp310-manylinux_2_17_x86_64.manylinux2014_x86_64.whl (3.4 MB)\n",
            "\u001b[2K     \u001b[90m━━━━━━━━━━━━━━━━━━━━━━━━━━━━━━━━━━━━━━━━\u001b[0m \u001b[32m3.4/3.4 MB\u001b[0m \u001b[31m18.2 MB/s\u001b[0m eta \u001b[36m0:00:00\u001b[0m\n",
            "\u001b[?25hRequirement already satisfied: six>=1.5 in /usr/local/lib/python3.10/dist-packages (from python-dateutil>=2.8.2->pandas) (1.16.0)\n",
            "Installing collected packages: fuzzywuzzy, rapidfuzz, Levenshtein, python-Levenshtein\n",
            "Successfully installed Levenshtein-0.25.1 fuzzywuzzy-0.18.0 python-Levenshtein-0.25.1 rapidfuzz-3.9.3\n"
          ]
        }
      ]
    },
    {
      "cell_type": "markdown",
      "source": [
        "Question 9:"
      ],
      "metadata": {
        "id": "d5GtB8cQJEUU"
      }
    },
    {
      "cell_type": "code",
      "source": [
        "from google.colab import files\n",
        "uploaded = files.upload()"
      ],
      "metadata": {
        "colab": {
          "base_uri": "https://localhost:8080/",
          "height": 73
        },
        "collapsed": true,
        "id": "2bwWFHViJZtZ",
        "outputId": "a9e2f77e-2d40-4639-a733-8a1a43b26ea0"
      },
      "execution_count": 40,
      "outputs": [
        {
          "output_type": "display_data",
          "data": {
            "text/plain": [
              "<IPython.core.display.HTML object>"
            ],
            "text/html": [
              "\n",
              "     <input type=\"file\" id=\"files-de7a034a-43f9-4776-9103-1140fd046505\" name=\"files[]\" multiple disabled\n",
              "        style=\"border:none\" />\n",
              "     <output id=\"result-de7a034a-43f9-4776-9103-1140fd046505\">\n",
              "      Upload widget is only available when the cell has been executed in the\n",
              "      current browser session. Please rerun this cell to enable.\n",
              "      </output>\n",
              "      <script>// Copyright 2017 Google LLC\n",
              "//\n",
              "// Licensed under the Apache License, Version 2.0 (the \"License\");\n",
              "// you may not use this file except in compliance with the License.\n",
              "// You may obtain a copy of the License at\n",
              "//\n",
              "//      http://www.apache.org/licenses/LICENSE-2.0\n",
              "//\n",
              "// Unless required by applicable law or agreed to in writing, software\n",
              "// distributed under the License is distributed on an \"AS IS\" BASIS,\n",
              "// WITHOUT WARRANTIES OR CONDITIONS OF ANY KIND, either express or implied.\n",
              "// See the License for the specific language governing permissions and\n",
              "// limitations under the License.\n",
              "\n",
              "/**\n",
              " * @fileoverview Helpers for google.colab Python module.\n",
              " */\n",
              "(function(scope) {\n",
              "function span(text, styleAttributes = {}) {\n",
              "  const element = document.createElement('span');\n",
              "  element.textContent = text;\n",
              "  for (const key of Object.keys(styleAttributes)) {\n",
              "    element.style[key] = styleAttributes[key];\n",
              "  }\n",
              "  return element;\n",
              "}\n",
              "\n",
              "// Max number of bytes which will be uploaded at a time.\n",
              "const MAX_PAYLOAD_SIZE = 100 * 1024;\n",
              "\n",
              "function _uploadFiles(inputId, outputId) {\n",
              "  const steps = uploadFilesStep(inputId, outputId);\n",
              "  const outputElement = document.getElementById(outputId);\n",
              "  // Cache steps on the outputElement to make it available for the next call\n",
              "  // to uploadFilesContinue from Python.\n",
              "  outputElement.steps = steps;\n",
              "\n",
              "  return _uploadFilesContinue(outputId);\n",
              "}\n",
              "\n",
              "// This is roughly an async generator (not supported in the browser yet),\n",
              "// where there are multiple asynchronous steps and the Python side is going\n",
              "// to poll for completion of each step.\n",
              "// This uses a Promise to block the python side on completion of each step,\n",
              "// then passes the result of the previous step as the input to the next step.\n",
              "function _uploadFilesContinue(outputId) {\n",
              "  const outputElement = document.getElementById(outputId);\n",
              "  const steps = outputElement.steps;\n",
              "\n",
              "  const next = steps.next(outputElement.lastPromiseValue);\n",
              "  return Promise.resolve(next.value.promise).then((value) => {\n",
              "    // Cache the last promise value to make it available to the next\n",
              "    // step of the generator.\n",
              "    outputElement.lastPromiseValue = value;\n",
              "    return next.value.response;\n",
              "  });\n",
              "}\n",
              "\n",
              "/**\n",
              " * Generator function which is called between each async step of the upload\n",
              " * process.\n",
              " * @param {string} inputId Element ID of the input file picker element.\n",
              " * @param {string} outputId Element ID of the output display.\n",
              " * @return {!Iterable<!Object>} Iterable of next steps.\n",
              " */\n",
              "function* uploadFilesStep(inputId, outputId) {\n",
              "  const inputElement = document.getElementById(inputId);\n",
              "  inputElement.disabled = false;\n",
              "\n",
              "  const outputElement = document.getElementById(outputId);\n",
              "  outputElement.innerHTML = '';\n",
              "\n",
              "  const pickedPromise = new Promise((resolve) => {\n",
              "    inputElement.addEventListener('change', (e) => {\n",
              "      resolve(e.target.files);\n",
              "    });\n",
              "  });\n",
              "\n",
              "  const cancel = document.createElement('button');\n",
              "  inputElement.parentElement.appendChild(cancel);\n",
              "  cancel.textContent = 'Cancel upload';\n",
              "  const cancelPromise = new Promise((resolve) => {\n",
              "    cancel.onclick = () => {\n",
              "      resolve(null);\n",
              "    };\n",
              "  });\n",
              "\n",
              "  // Wait for the user to pick the files.\n",
              "  const files = yield {\n",
              "    promise: Promise.race([pickedPromise, cancelPromise]),\n",
              "    response: {\n",
              "      action: 'starting',\n",
              "    }\n",
              "  };\n",
              "\n",
              "  cancel.remove();\n",
              "\n",
              "  // Disable the input element since further picks are not allowed.\n",
              "  inputElement.disabled = true;\n",
              "\n",
              "  if (!files) {\n",
              "    return {\n",
              "      response: {\n",
              "        action: 'complete',\n",
              "      }\n",
              "    };\n",
              "  }\n",
              "\n",
              "  for (const file of files) {\n",
              "    const li = document.createElement('li');\n",
              "    li.append(span(file.name, {fontWeight: 'bold'}));\n",
              "    li.append(span(\n",
              "        `(${file.type || 'n/a'}) - ${file.size} bytes, ` +\n",
              "        `last modified: ${\n",
              "            file.lastModifiedDate ? file.lastModifiedDate.toLocaleDateString() :\n",
              "                                    'n/a'} - `));\n",
              "    const percent = span('0% done');\n",
              "    li.appendChild(percent);\n",
              "\n",
              "    outputElement.appendChild(li);\n",
              "\n",
              "    const fileDataPromise = new Promise((resolve) => {\n",
              "      const reader = new FileReader();\n",
              "      reader.onload = (e) => {\n",
              "        resolve(e.target.result);\n",
              "      };\n",
              "      reader.readAsArrayBuffer(file);\n",
              "    });\n",
              "    // Wait for the data to be ready.\n",
              "    let fileData = yield {\n",
              "      promise: fileDataPromise,\n",
              "      response: {\n",
              "        action: 'continue',\n",
              "      }\n",
              "    };\n",
              "\n",
              "    // Use a chunked sending to avoid message size limits. See b/62115660.\n",
              "    let position = 0;\n",
              "    do {\n",
              "      const length = Math.min(fileData.byteLength - position, MAX_PAYLOAD_SIZE);\n",
              "      const chunk = new Uint8Array(fileData, position, length);\n",
              "      position += length;\n",
              "\n",
              "      const base64 = btoa(String.fromCharCode.apply(null, chunk));\n",
              "      yield {\n",
              "        response: {\n",
              "          action: 'append',\n",
              "          file: file.name,\n",
              "          data: base64,\n",
              "        },\n",
              "      };\n",
              "\n",
              "      let percentDone = fileData.byteLength === 0 ?\n",
              "          100 :\n",
              "          Math.round((position / fileData.byteLength) * 100);\n",
              "      percent.textContent = `${percentDone}% done`;\n",
              "\n",
              "    } while (position < fileData.byteLength);\n",
              "  }\n",
              "\n",
              "  // All done.\n",
              "  yield {\n",
              "    response: {\n",
              "      action: 'complete',\n",
              "    }\n",
              "  };\n",
              "}\n",
              "\n",
              "scope.google = scope.google || {};\n",
              "scope.google.colab = scope.google.colab || {};\n",
              "scope.google.colab._files = {\n",
              "  _uploadFiles,\n",
              "  _uploadFilesContinue,\n",
              "};\n",
              "})(self);\n",
              "</script> "
            ]
          },
          "metadata": {}
        },
        {
          "output_type": "stream",
          "name": "stdout",
          "text": [
            "Saving city-product-sales.json to city-product-sales.json\n"
          ]
        }
      ]
    },
    {
      "cell_type": "code",
      "source": [
        "import json\n",
        "from collections import defaultdict\n",
        "import jellyfish\n",
        "\n",
        "# Step 1: Load the data\n",
        "with open('city-product-sales.json', 'r') as file:\n",
        "    data = json.load(file)\n",
        "\n",
        "# Step 2: Filter the data and ensure correct structure\n",
        "filtered_data = [\n",
        "    entry for entry in data\n",
        "    if 'city' in entry and 'product' in entry and 'sales' in entry and entry['product'] == 'Eggs' and entry['sales'] >= 17\n",
        "]\n",
        "\n",
        "# Step 3: Group mis-spelt city names using phonetic clustering\n",
        "def phonetic_grouping(data):\n",
        "    city_sales = defaultdict(int)\n",
        "    city_map = {}\n",
        "\n",
        "    for entry in data:\n",
        "        city = entry['city']\n",
        "        phonetic_key = jellyfish.soundex(city)\n",
        "\n",
        "        if phonetic_key in city_map:\n",
        "            corrected_city = city_map[phonetic_key]\n",
        "        else:\n",
        "            corrected_city = city\n",
        "            city_map[phonetic_key] = city\n",
        "\n",
        "        city_sales[corrected_city] += entry['sales']\n",
        "\n",
        "    return city_sales\n",
        "\n",
        "city_sales = phonetic_grouping(filtered_data)\n",
        "\n",
        "# Step 4: Find the city with the highest sales\n",
        "max_city = max(city_sales, key=city_sales.get)\n",
        "max_sales = city_sales[max_city]\n",
        "\n",
        "# Output the result\n",
        "print(f\"The city with the highest sales of Eggs is '{max_city}' with a total of {max_sales} units sold.\")\n"
      ],
      "metadata": {
        "colab": {
          "base_uri": "https://localhost:8080/"
        },
        "id": "PYW1fUorLoL0",
        "outputId": "241ed37c-a06f-483e-eb30-907365241262",
        "collapsed": true
      },
      "execution_count": 41,
      "outputs": [
        {
          "output_type": "stream",
          "name": "stdout",
          "text": [
            "The city with the highest sales of Eggs is 'Tokyoo' with a total of 940 units sold.\n"
          ]
        }
      ]
    },
    {
      "cell_type": "markdown",
      "source": [
        "Question 10:"
      ],
      "metadata": {
        "id": "IXToAbJOJkqj"
      }
    },
    {
      "cell_type": "code",
      "source": [
        "import json\n",
        "from collections import defaultdict\n",
        "import jellyfish\n",
        "\n",
        "# Step 1: Load the data\n",
        "with open('city-product-sales.json', 'r') as file:\n",
        "    data = json.load(file)\n",
        "\n",
        "# Step 2: Filter the data and ensure correct structure\n",
        "filtered_data = [\n",
        "    entry for entry in data\n",
        "    if 'city' in entry and 'product' in entry and 'sales' in entry and entry['product'] == 'Eggs' and entry['sales'] >= 10\n",
        "]\n",
        "\n",
        "# Step 3: Group mis-spelt city names using phonetic clustering\n",
        "def phonetic_grouping(data):\n",
        "    city_sales = defaultdict(int)\n",
        "    city_map = {}\n",
        "\n",
        "    for entry in data:\n",
        "        city = entry['city']\n",
        "        phonetic_key = jellyfish.soundex(city)\n",
        "\n",
        "        if phonetic_key in city_map:\n",
        "            corrected_city = city_map[phonetic_key]\n",
        "        else:\n",
        "            corrected_city = city\n",
        "            city_map[phonetic_key] = city\n",
        "\n",
        "        city_sales[corrected_city] += entry['sales']\n",
        "\n",
        "    return city_sales\n",
        "\n",
        "city_sales = phonetic_grouping(filtered_data)\n",
        "\n",
        "# Step 4: Find the city with the highest sales\n",
        "max_city = max(city_sales, key=city_sales.get)\n",
        "max_sales = city_sales[max_city]\n",
        "\n",
        "# Output the result\n",
        "print(f\"The city with the highest sales of Eggs is '{max_city}' with a total of {max_sales} units sold.\")\n"
      ],
      "metadata": {
        "colab": {
          "base_uri": "https://localhost:8080/"
        },
        "outputId": "3a26f0d1-bd18-46d8-9bca-7ea3014972de",
        "collapsed": true,
        "id": "zwh4tpvwJnpc"
      },
      "execution_count": 42,
      "outputs": [
        {
          "output_type": "stream",
          "name": "stdout",
          "text": [
            "The city with the highest sales of Eggs is 'Tokyoo' with a total of 953 units sold.\n"
          ]
        }
      ]
    }
  ]
}